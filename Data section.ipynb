{
 "cells": [
  {
   "cell_type": "markdown",
   "metadata": {},
   "source": [
    "# Final Project \"The Battle of Neighborhoods\""
   ]
  },
  {
   "cell_type": "markdown",
   "metadata": {},
   "source": [
    "## Gabriel Mantilla Saltos"
   ]
  },
  {
   "cell_type": "markdown",
   "metadata": {},
   "source": [
    "#### Important hotel companies from abroad, wish to perform a geo-statistical analysis of urban parishes in the city of Guayaquil. Guayaquil is the largest city in Ecuador and occupies a primary place in the national economy. For this, it will use the Foursquare platform, to measure consumption trends in each area, such as: what types of places exist (parks, shopping centers, restaurants, etc.), which of these places are well attended, provided by hotels in the area, etc. For this, the analyst who was hired by these hotel companies, obtained relevant information from each parish, and it turns out that the parishes of the city center, are very close. While the parishes of the north and east, are well separated. The information obtained refers to the names, geographical coordinates, neighborhoods and commercial places of each parish. With this information, we will study if the parishes are grouped, by commercial trends, without taking into account the distance between them."
   ]
  },
  {
   "cell_type": "markdown",
   "metadata": {},
   "source": [
    "#### Below we shou you the process to connect to a database, doing web scraping."
   ]
  },
  {
   "cell_type": "code",
   "execution_count": 1,
   "metadata": {},
   "outputs": [
    {
     "data": {
      "text/html": [
       "<div>\n",
       "<style scoped>\n",
       "    .dataframe tbody tr th:only-of-type {\n",
       "        vertical-align: middle;\n",
       "    }\n",
       "\n",
       "    .dataframe tbody tr th {\n",
       "        vertical-align: top;\n",
       "    }\n",
       "\n",
       "    .dataframe thead th {\n",
       "        text-align: right;\n",
       "    }\n",
       "</style>\n",
       "<table border=\"1\" class=\"dataframe\">\n",
       "  <thead>\n",
       "    <tr style=\"text-align: right;\">\n",
       "      <th></th>\n",
       "      <th>Postcode</th>\n",
       "      <th>Parish</th>\n",
       "      <th>Borough</th>\n",
       "      <th>Neighborhood</th>\n",
       "      <th>Longitude</th>\n",
       "      <th>Latitude</th>\n",
       "    </tr>\n",
       "  </thead>\n",
       "  <tbody>\n",
       "    <tr>\n",
       "      <th>0</th>\n",
       "      <td>090101</td>\n",
       "      <td>Ayacucho</td>\n",
       "      <td>Downtown  Guayaquil</td>\n",
       "      <td>Ayacucho</td>\n",
       "      <td>-79.890106</td>\n",
       "      <td>-2.210537</td>\n",
       "    </tr>\n",
       "    <tr>\n",
       "      <th>1</th>\n",
       "      <td>090102</td>\n",
       "      <td>Bolívar</td>\n",
       "      <td>Southeast Guayaquil</td>\n",
       "      <td>Bolívar (Sagrario)</td>\n",
       "      <td>-79.890021</td>\n",
       "      <td>-2.201835</td>\n",
       "    </tr>\n",
       "    <tr>\n",
       "      <th>2</th>\n",
       "      <td>090103</td>\n",
       "      <td>Carbo</td>\n",
       "      <td>Southeast Guayaquil</td>\n",
       "      <td>Carbo (Concepción)</td>\n",
       "      <td>-79.880388</td>\n",
       "      <td>-2.187644</td>\n",
       "    </tr>\n",
       "    <tr>\n",
       "      <th>3</th>\n",
       "      <td>090104</td>\n",
       "      <td>Febres Cordero</td>\n",
       "      <td>Southeast Guayaquil</td>\n",
       "      <td>Abel Gilbert, Batallón del Suburbio, Estero Sa...</td>\n",
       "      <td>-79.923126</td>\n",
       "      <td>-2.195226</td>\n",
       "    </tr>\n",
       "    <tr>\n",
       "      <th>4</th>\n",
       "      <td>090105</td>\n",
       "      <td>García Moreno</td>\n",
       "      <td>Southeast Guayaquil</td>\n",
       "      <td>García Moreno</td>\n",
       "      <td>-79.900845</td>\n",
       "      <td>-2.21422</td>\n",
       "    </tr>\n",
       "  </tbody>\n",
       "</table>\n",
       "</div>"
      ],
      "text/plain": [
       "  Postcode          Parish              Borough  \\\n",
       "0   090101        Ayacucho  Downtown  Guayaquil   \n",
       "1   090102         Bolívar  Southeast Guayaquil   \n",
       "2   090103           Carbo  Southeast Guayaquil   \n",
       "3   090104  Febres Cordero  Southeast Guayaquil   \n",
       "4   090105   García Moreno  Southeast Guayaquil   \n",
       "\n",
       "                                        Neighborhood   Longitude   Latitude  \n",
       "0                                           Ayacucho  -79.890106  -2.210537  \n",
       "1                                 Bolívar (Sagrario)  -79.890021  -2.201835  \n",
       "2                                 Carbo (Concepción)  -79.880388  -2.187644  \n",
       "3  Abel Gilbert, Batallón del Suburbio, Estero Sa...  -79.923126  -2.195226  \n",
       "4                                      García Moreno  -79.900845   -2.21422  "
      ]
     },
     "execution_count": 1,
     "metadata": {},
     "output_type": "execute_result"
    }
   ],
   "source": [
    "import pandas as pd\n",
    "from bs4 import BeautifulSoup\n",
    "import requests\n",
    "website_url=requests.get('https://github.com/gabriemanclub/Segmentation-and-Clustering-of-Guayaquil-s-Parishes/blob/master/Guayaquil.csv').text\n",
    "soup = BeautifulSoup(website_url,'lxml')\n",
    "\n",
    "# Extract the column names\n",
    "table = soup.find('table',{'class':'js-csv-data csv-data js-file-line-container'})\n",
    "column_names = [item.get_text().rstrip() for item in table.find_all('th')]\n",
    "\n",
    "# Extract values in rows \n",
    "data = []\n",
    "table_body = table.find('tbody')\n",
    "\n",
    "rows = table_body.find_all('tr')\n",
    "\n",
    "for row in rows:\n",
    "    cols = row.find_all('td')\n",
    "    cols = [ele.text.strip() for ele in cols]\n",
    "    data.append([ele for ele in cols if ele])\n",
    "\n",
    "# Put all the data into a dataframe\n",
    "df = pd.DataFrame(data, columns=column_names)\n",
    "# Only process the cells that have an assigned borough. Ignore cells with a borough that is Not assigned.\n",
    "df.head()"
   ]
  },
  {
   "cell_type": "code",
   "execution_count": 92,
   "metadata": {},
   "outputs": [
    {
     "name": "stdout",
     "output_type": "stream",
     "text": [
      "<class 'pandas.core.frame.DataFrame'>\n",
      "RangeIndex: 16 entries, 0 to 15\n",
      "Data columns (total 6 columns):\n",
      "Postcode        16 non-null object\n",
      "Parish          16 non-null object\n",
      "Borough         16 non-null object\n",
      "Neighborhood    16 non-null object\n",
      "Longitude       16 non-null object\n",
      "Latitude        16 non-null object\n",
      "dtypes: object(6)\n",
      "memory usage: 848.0+ bytes\n"
     ]
    }
   ],
   "source": [
    "df.info()"
   ]
  },
  {
   "cell_type": "markdown",
   "metadata": {},
   "source": [
    "#### Preparing de latitude and longitude of Guayaquil"
   ]
  },
  {
   "cell_type": "code",
   "execution_count": 2,
   "metadata": {},
   "outputs": [],
   "source": [
    "from geopy.geocoders import Nominatim\n",
    "address = 'Guayaquil'\n",
    "geolocator = Nominatim(user_agent=\"ny_explorer\")\n",
    "location = geolocator.geocode(address)\n",
    "latitude = location.latitude\n",
    "longitude = location.longitude"
   ]
  },
  {
   "cell_type": "markdown",
   "metadata": {},
   "source": [
    "#### Using my ClientID and ClientSecret of Foursquare, with 10 venues limit"
   ]
  },
  {
   "cell_type": "code",
   "execution_count": 3,
   "metadata": {},
   "outputs": [],
   "source": [
    "CLIENT_ID = 'QDHYFTGXCVD4DFZUHH0P3SOKGAHYFHLRDN31RHXMNHWCQQUH' # your Foursquare ID\n",
    "CLIENT_SECRET = 'EXVT2ZAMS4DMG32FCLASGF5WSU4WPMDLNY5W5NZRM1MMUSGH' # your Foursquare Secret\n",
    "VERSION = '20180604'\n",
    "LIMIT = 10"
   ]
  },
  {
   "cell_type": "code",
   "execution_count": 4,
   "metadata": {},
   "outputs": [],
   "source": [
    "search_query = 'Hotel' #Hotels\n",
    "radius = 10000 #around the coordinates\n",
    "#Define the corresponding URL\n",
    "url = 'https://api.foursquare.com/v2/venues/search?client_id={}&client_secret={}&ll={},{}&v={}&query={}&radius={}&limit={}'.format(CLIENT_ID, CLIENT_SECRET, latitude, longitude, VERSION, search_query, radius, LIMIT)\n",
    "#Send the GET Request and examine the results\n",
    "import requests # library to handle requests\n",
    "results = requests.get(url).json()\n",
    "venues = results['response']['venues']"
   ]
  },
  {
   "cell_type": "markdown",
   "metadata": {},
   "source": [
    "#### Tranform venues into a dataframe"
   ]
  },
  {
   "cell_type": "code",
   "execution_count": 5,
   "metadata": {},
   "outputs": [],
   "source": [
    "from pandas.io.json import json_normalize\n",
    "dataframe = json_normalize(venues)\n",
    "dataframe.head()\n",
    "\n",
    "#Define information of interest and filter dataframe\n",
    "# keep only columns that include venue name, and anything that is associated with location\n",
    "filtered_columns = ['name', 'categories'] + [col for col in dataframe.columns if col.startswith('location.')] + ['id']\n",
    "dataframe_filtered = dataframe.loc[:, filtered_columns]\n",
    "\n",
    "# function that extracts the category of the venue\n",
    "def get_category_type(row):\n",
    "    try:\n",
    "        categories_list = row['categories']\n",
    "    except:\n",
    "        categories_list = row['venue.categories']\n",
    "        \n",
    "    if len(categories_list) == 0:\n",
    "        return None\n",
    "    else:\n",
    "        return categories_list[0]['name']"
   ]
  },
  {
   "cell_type": "markdown",
   "metadata": {},
   "source": [
    "#### Filter the category for each row\n"
   ]
  },
  {
   "cell_type": "code",
   "execution_count": 6,
   "metadata": {},
   "outputs": [
    {
     "data": {
      "text/html": [
       "<div>\n",
       "<style scoped>\n",
       "    .dataframe tbody tr th:only-of-type {\n",
       "        vertical-align: middle;\n",
       "    }\n",
       "\n",
       "    .dataframe tbody tr th {\n",
       "        vertical-align: top;\n",
       "    }\n",
       "\n",
       "    .dataframe thead th {\n",
       "        text-align: right;\n",
       "    }\n",
       "</style>\n",
       "<table border=\"1\" class=\"dataframe\">\n",
       "  <thead>\n",
       "    <tr style=\"text-align: right;\">\n",
       "      <th></th>\n",
       "      <th>name</th>\n",
       "      <th>categories</th>\n",
       "      <th>address</th>\n",
       "      <th>cc</th>\n",
       "      <th>city</th>\n",
       "      <th>country</th>\n",
       "      <th>crossStreet</th>\n",
       "      <th>distance</th>\n",
       "      <th>formattedAddress</th>\n",
       "      <th>labeledLatLngs</th>\n",
       "      <th>lat</th>\n",
       "      <th>lng</th>\n",
       "      <th>postalCode</th>\n",
       "      <th>state</th>\n",
       "      <th>id</th>\n",
       "    </tr>\n",
       "  </thead>\n",
       "  <tbody>\n",
       "    <tr>\n",
       "      <th>0</th>\n",
       "      <td>Hotel Oro Verde</td>\n",
       "      <td>Hotel</td>\n",
       "      <td>9 de octubre</td>\n",
       "      <td>EC</td>\n",
       "      <td>Guayaquil</td>\n",
       "      <td>Ecuador</td>\n",
       "      <td>Avenida del Ejercito</td>\n",
       "      <td>442</td>\n",
       "      <td>[9 de octubre (Avenida del Ejercito), Guayaqui...</td>\n",
       "      <td>[{'label': 'display', 'lat': -2.18869251288095...</td>\n",
       "      <td>-2.188693</td>\n",
       "      <td>-79.891513</td>\n",
       "      <td>NaN</td>\n",
       "      <td>Guayas</td>\n",
       "      <td>4b854903f964a5209e5431e3</td>\n",
       "    </tr>\n",
       "    <tr>\n",
       "      <th>1</th>\n",
       "      <td>Hotel Galería Man-Ging</td>\n",
       "      <td>Hotel</td>\n",
       "      <td>9 de Octubre y Garcia Moreno</td>\n",
       "      <td>EC</td>\n",
       "      <td>Guayaquil</td>\n",
       "      <td>Ecuador</td>\n",
       "      <td>NaN</td>\n",
       "      <td>421</td>\n",
       "      <td>[9 de Octubre y Garcia Moreno, Guayaquil, Ecua...</td>\n",
       "      <td>[{'label': 'display', 'lat': -2.18842458676760...</td>\n",
       "      <td>-2.188425</td>\n",
       "      <td>-79.891218</td>\n",
       "      <td>NaN</td>\n",
       "      <td>Guayas</td>\n",
       "      <td>4e7b5ca9b9932767d1238bb5</td>\n",
       "    </tr>\n",
       "    <tr>\n",
       "      <th>2</th>\n",
       "      <td>Hotel Plaza Centenario</td>\n",
       "      <td>Hotel</td>\n",
       "      <td>Lorenzo De Garaycoa</td>\n",
       "      <td>EC</td>\n",
       "      <td>Guayaquil</td>\n",
       "      <td>Ecuador</td>\n",
       "      <td>Jose Velez</td>\n",
       "      <td>151</td>\n",
       "      <td>[Lorenzo De Garaycoa (Jose Velez), Guayaquil, ...</td>\n",
       "      <td>[{'label': 'display', 'lat': -2.19118121297325...</td>\n",
       "      <td>-2.191181</td>\n",
       "      <td>-79.887320</td>\n",
       "      <td>NaN</td>\n",
       "      <td>Guayas</td>\n",
       "      <td>4e70d814a8098087a0487c54</td>\n",
       "    </tr>\n",
       "    <tr>\n",
       "      <th>3</th>\n",
       "      <td>Unipark Hotel</td>\n",
       "      <td>Hotel</td>\n",
       "      <td>Clemente Ballén</td>\n",
       "      <td>EC</td>\n",
       "      <td>Guayaquil</td>\n",
       "      <td>Ecuador</td>\n",
       "      <td>Chile</td>\n",
       "      <td>717</td>\n",
       "      <td>[Clemente Ballén (Chile), Guayaquil, Ecuador]</td>\n",
       "      <td>[{'label': 'display', 'lat': -2.19434603915763...</td>\n",
       "      <td>-2.194346</td>\n",
       "      <td>-79.883071</td>\n",
       "      <td>NaN</td>\n",
       "      <td>Guayas</td>\n",
       "      <td>4bd6fee67b1876b0205e8d86</td>\n",
       "    </tr>\n",
       "    <tr>\n",
       "      <th>4</th>\n",
       "      <td>Hotel 9 De Octubre</td>\n",
       "      <td>Hotel</td>\n",
       "      <td>Av. 9 De Octubre</td>\n",
       "      <td>EC</td>\n",
       "      <td>Guayaquil</td>\n",
       "      <td>Ecuador</td>\n",
       "      <td>Francisco García</td>\n",
       "      <td>346</td>\n",
       "      <td>[Av. 9 De Octubre (Francisco García), Guayaqui...</td>\n",
       "      <td>[{'label': 'display', 'lat': -2.19068404526644...</td>\n",
       "      <td>-2.190684</td>\n",
       "      <td>-79.884706</td>\n",
       "      <td>NaN</td>\n",
       "      <td>Guayas</td>\n",
       "      <td>4e79dd022271920e473971ae</td>\n",
       "    </tr>\n",
       "    <tr>\n",
       "      <th>5</th>\n",
       "      <td>Hotel Las Peñas</td>\n",
       "      <td>Hotel</td>\n",
       "      <td>Escobedo 1215</td>\n",
       "      <td>EC</td>\n",
       "      <td>Guayaquil</td>\n",
       "      <td>Ecuador</td>\n",
       "      <td>entre 9 de Octubre y Vélez</td>\n",
       "      <td>512</td>\n",
       "      <td>[Escobedo 1215 (entre 9 de Octubre y Vélez), G...</td>\n",
       "      <td>[{'label': 'display', 'lat': -2.19175064697595...</td>\n",
       "      <td>-2.191751</td>\n",
       "      <td>-79.883503</td>\n",
       "      <td>NaN</td>\n",
       "      <td>Guayas</td>\n",
       "      <td>4e2b7bdde4cd3bc166967ae8</td>\n",
       "    </tr>\n",
       "    <tr>\n",
       "      <th>6</th>\n",
       "      <td>Hotel Ramada</td>\n",
       "      <td>Hotel</td>\n",
       "      <td>Malecón #606</td>\n",
       "      <td>EC</td>\n",
       "      <td>Guayaquil</td>\n",
       "      <td>Ecuador</td>\n",
       "      <td>Manuel Antonio Luzarraga</td>\n",
       "      <td>1037</td>\n",
       "      <td>[Malecón #606 (Manuel Antonio Luzarraga), Guay...</td>\n",
       "      <td>[{'label': 'display', 'lat': -2.18868081976067...</td>\n",
       "      <td>-2.188681</td>\n",
       "      <td>-79.878466</td>\n",
       "      <td>NaN</td>\n",
       "      <td>Guayas</td>\n",
       "      <td>4bcb96a3aeaaeee1b7e93d6d</td>\n",
       "    </tr>\n",
       "    <tr>\n",
       "      <th>7</th>\n",
       "      <td>Plaza Rafael Hotel Guayaquil</td>\n",
       "      <td>Hotel</td>\n",
       "      <td>Chile 414</td>\n",
       "      <td>EC</td>\n",
       "      <td>Guayaquil</td>\n",
       "      <td>Ecuador</td>\n",
       "      <td>Clemente Ballén</td>\n",
       "      <td>744</td>\n",
       "      <td>[Chile 414 (Clemente Ballén), Guayaquil, Ecuador]</td>\n",
       "      <td>[{'label': 'display', 'lat': -2.19425576894791...</td>\n",
       "      <td>-2.194256</td>\n",
       "      <td>-79.882656</td>\n",
       "      <td>NaN</td>\n",
       "      <td>Guayas</td>\n",
       "      <td>515aeb51e4b074b49a5ae814</td>\n",
       "    </tr>\n",
       "    <tr>\n",
       "      <th>8</th>\n",
       "      <td>Radisson Hotel Guayaquil</td>\n",
       "      <td>Hotel</td>\n",
       "      <td>Ciudadela Kennedy, Av. Gral. Francisco Boloña ...</td>\n",
       "      <td>EC</td>\n",
       "      <td>Guayaquil</td>\n",
       "      <td>Ecuador</td>\n",
       "      <td>Av Francisco Ubina</td>\n",
       "      <td>2330</td>\n",
       "      <td>[Ciudadela Kennedy, Av. Gral. Francisco Boloña...</td>\n",
       "      <td>[{'label': 'display', 'lat': -2.17465774857139...</td>\n",
       "      <td>-2.174658</td>\n",
       "      <td>-79.902096</td>\n",
       "      <td>090510</td>\n",
       "      <td>Guayas</td>\n",
       "      <td>5977ea1d95d986557fd89d3d</td>\n",
       "    </tr>\n",
       "    <tr>\n",
       "      <th>9</th>\n",
       "      <td>Centro de negocios Hotel Ramada Gye</td>\n",
       "      <td>Coworking Space</td>\n",
       "      <td>NaN</td>\n",
       "      <td>EC</td>\n",
       "      <td>NaN</td>\n",
       "      <td>Ecuador</td>\n",
       "      <td>NaN</td>\n",
       "      <td>1074</td>\n",
       "      <td>[Ecuador]</td>\n",
       "      <td>[{'label': 'display', 'lat': -2.18886470794677...</td>\n",
       "      <td>-2.188865</td>\n",
       "      <td>-79.878113</td>\n",
       "      <td>NaN</td>\n",
       "      <td>NaN</td>\n",
       "      <td>521e2ac811d2d3f4f46233cf</td>\n",
       "    </tr>\n",
       "  </tbody>\n",
       "</table>\n",
       "</div>"
      ],
      "text/plain": [
       "                                  name       categories  \\\n",
       "0                      Hotel Oro Verde            Hotel   \n",
       "1               Hotel Galería Man-Ging            Hotel   \n",
       "2               Hotel Plaza Centenario            Hotel   \n",
       "3                        Unipark Hotel            Hotel   \n",
       "4                   Hotel 9 De Octubre            Hotel   \n",
       "5                      Hotel Las Peñas            Hotel   \n",
       "6                         Hotel Ramada            Hotel   \n",
       "7         Plaza Rafael Hotel Guayaquil            Hotel   \n",
       "8             Radisson Hotel Guayaquil            Hotel   \n",
       "9  Centro de negocios Hotel Ramada Gye  Coworking Space   \n",
       "\n",
       "                                             address  cc       city  country  \\\n",
       "0                                       9 de octubre  EC  Guayaquil  Ecuador   \n",
       "1                       9 de Octubre y Garcia Moreno  EC  Guayaquil  Ecuador   \n",
       "2                                Lorenzo De Garaycoa  EC  Guayaquil  Ecuador   \n",
       "3                                    Clemente Ballén  EC  Guayaquil  Ecuador   \n",
       "4                                   Av. 9 De Octubre  EC  Guayaquil  Ecuador   \n",
       "5                                      Escobedo 1215  EC  Guayaquil  Ecuador   \n",
       "6                                       Malecón #606  EC  Guayaquil  Ecuador   \n",
       "7                                          Chile 414  EC  Guayaquil  Ecuador   \n",
       "8  Ciudadela Kennedy, Av. Gral. Francisco Boloña ...  EC  Guayaquil  Ecuador   \n",
       "9                                                NaN  EC        NaN  Ecuador   \n",
       "\n",
       "                  crossStreet  distance  \\\n",
       "0        Avenida del Ejercito       442   \n",
       "1                         NaN       421   \n",
       "2                  Jose Velez       151   \n",
       "3                       Chile       717   \n",
       "4            Francisco García       346   \n",
       "5  entre 9 de Octubre y Vélez       512   \n",
       "6    Manuel Antonio Luzarraga      1037   \n",
       "7             Clemente Ballén       744   \n",
       "8          Av Francisco Ubina      2330   \n",
       "9                         NaN      1074   \n",
       "\n",
       "                                    formattedAddress  \\\n",
       "0  [9 de octubre (Avenida del Ejercito), Guayaqui...   \n",
       "1  [9 de Octubre y Garcia Moreno, Guayaquil, Ecua...   \n",
       "2  [Lorenzo De Garaycoa (Jose Velez), Guayaquil, ...   \n",
       "3      [Clemente Ballén (Chile), Guayaquil, Ecuador]   \n",
       "4  [Av. 9 De Octubre (Francisco García), Guayaqui...   \n",
       "5  [Escobedo 1215 (entre 9 de Octubre y Vélez), G...   \n",
       "6  [Malecón #606 (Manuel Antonio Luzarraga), Guay...   \n",
       "7  [Chile 414 (Clemente Ballén), Guayaquil, Ecuador]   \n",
       "8  [Ciudadela Kennedy, Av. Gral. Francisco Boloña...   \n",
       "9                                          [Ecuador]   \n",
       "\n",
       "                                      labeledLatLngs       lat        lng  \\\n",
       "0  [{'label': 'display', 'lat': -2.18869251288095... -2.188693 -79.891513   \n",
       "1  [{'label': 'display', 'lat': -2.18842458676760... -2.188425 -79.891218   \n",
       "2  [{'label': 'display', 'lat': -2.19118121297325... -2.191181 -79.887320   \n",
       "3  [{'label': 'display', 'lat': -2.19434603915763... -2.194346 -79.883071   \n",
       "4  [{'label': 'display', 'lat': -2.19068404526644... -2.190684 -79.884706   \n",
       "5  [{'label': 'display', 'lat': -2.19175064697595... -2.191751 -79.883503   \n",
       "6  [{'label': 'display', 'lat': -2.18868081976067... -2.188681 -79.878466   \n",
       "7  [{'label': 'display', 'lat': -2.19425576894791... -2.194256 -79.882656   \n",
       "8  [{'label': 'display', 'lat': -2.17465774857139... -2.174658 -79.902096   \n",
       "9  [{'label': 'display', 'lat': -2.18886470794677... -2.188865 -79.878113   \n",
       "\n",
       "  postalCode   state                        id  \n",
       "0        NaN  Guayas  4b854903f964a5209e5431e3  \n",
       "1        NaN  Guayas  4e7b5ca9b9932767d1238bb5  \n",
       "2        NaN  Guayas  4e70d814a8098087a0487c54  \n",
       "3        NaN  Guayas  4bd6fee67b1876b0205e8d86  \n",
       "4        NaN  Guayas  4e79dd022271920e473971ae  \n",
       "5        NaN  Guayas  4e2b7bdde4cd3bc166967ae8  \n",
       "6        NaN  Guayas  4bcb96a3aeaaeee1b7e93d6d  \n",
       "7        NaN  Guayas  515aeb51e4b074b49a5ae814  \n",
       "8     090510  Guayas  5977ea1d95d986557fd89d3d  \n",
       "9        NaN     NaN  521e2ac811d2d3f4f46233cf  "
      ]
     },
     "execution_count": 6,
     "metadata": {},
     "output_type": "execute_result"
    }
   ],
   "source": [
    "dataframe_filtered['categories'] = dataframe_filtered.apply(get_category_type, axis=1)\n",
    "# clean column names by keeping only last term\n",
    "dataframe_filtered.columns = [column.split('.')[-1] for column in dataframe_filtered.columns]\n",
    "dataframe_filtered"
   ]
  },
  {
   "cell_type": "markdown",
   "metadata": {},
   "source": [
    "#### Let's visualize the Hotels that are nearby"
   ]
  },
  {
   "cell_type": "code",
   "execution_count": 7,
   "metadata": {},
   "outputs": [
    {
     "data": {
      "text/plain": [
       "0                        Hotel Oro Verde\n",
       "1                 Hotel Galería Man-Ging\n",
       "2                 Hotel Plaza Centenario\n",
       "3                          Unipark Hotel\n",
       "4                     Hotel 9 De Octubre\n",
       "5                        Hotel Las Peñas\n",
       "6                           Hotel Ramada\n",
       "7           Plaza Rafael Hotel Guayaquil\n",
       "8               Radisson Hotel Guayaquil\n",
       "9    Centro de negocios Hotel Ramada Gye\n",
       "Name: name, dtype: object"
      ]
     },
     "execution_count": 7,
     "metadata": {},
     "output_type": "execute_result"
    }
   ],
   "source": [
    "dataframe_filtered.name"
   ]
  },
  {
   "cell_type": "code",
   "execution_count": 8,
   "metadata": {},
   "outputs": [
    {
     "data": {
      "text/html": [
       "<div style=\"width:100%;\"><div style=\"position:relative;width:100%;height:0;padding-bottom:60%;\"><iframe src=\"data:text/html;charset=utf-8;base64,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\" style=\"position:absolute;width:100%;height:100%;left:0;top:0;border:none !important;\" allowfullscreen webkitallowfullscreen mozallowfullscreen></iframe></div></div>"
      ],
      "text/plain": [
       "<folium.folium.Map at 0x24838218358>"
      ]
     },
     "metadata": {},
     "output_type": "display_data"
    }
   ],
   "source": [
    "import folium\n",
    "hotels_map = folium.Map(location=[latitude, longitude], zoom_start=13) # generate map centred around the Conrad Hotel\n",
    "# add a red circle marker to represent the Centenario Park\n",
    "folium.features.CircleMarker(\n",
    "    [latitude, longitude],\n",
    "    radius=10,\n",
    "    color='pink',\n",
    "    popup='Centenario Park',\n",
    "    fill = True,\n",
    "    fill_color = 'red',\n",
    "    fill_opacity = 0.6\n",
    ").add_to(hotels_map)\n",
    "hotels_map.save(\"Hotels.html\")\n",
    "# add the Hotels as blue circle markers\n",
    "for lat, lng, label in zip(dataframe_filtered.lat, dataframe_filtered.lng, dataframe_filtered.name):\n",
    "    folium.features.CircleMarker(\n",
    "        [lat, lng],\n",
    "        radius=5,\n",
    "        color='blue',\n",
    "        popup=label,\n",
    "        fill = True,\n",
    "        fill_color='blue',\n",
    "        fill_opacity=0.6\n",
    "    ).add_to(hotels_map)\n",
    "display(hotels_map)"
   ]
  },
  {
   "cell_type": "code",
   "execution_count": 9,
   "metadata": {},
   "outputs": [
    {
     "name": "stdout",
     "output_type": "stream",
     "text": [
      "Rating of the Hotel:  7.1\n"
     ]
    }
   ],
   "source": [
    "# Let's check the Hotel Galeria rate.\n",
    "venue_id = '4e7b5ca9b9932767d1238bb5' # ID of Hotel Galeria Manging\n",
    "url = 'https://api.foursquare.com/v2/venues/{}?client_id={}&client_secret={}&v={}'.format(venue_id, CLIENT_ID, CLIENT_SECRET, VERSION)\n",
    "result = requests.get(url).json()\n",
    "try:\n",
    "    print('Rating of the Hotel: ',result['response']['venue']['rating'])\n",
    "except:\n",
    "    print('This venue has not been rated yet.')"
   ]
  },
  {
   "cell_type": "markdown",
   "metadata": {},
   "source": [
    "#### Create URL and send GET request. Make sure to set limit to get all tips"
   ]
  },
  {
   "cell_type": "code",
   "execution_count": 10,
   "metadata": {},
   "outputs": [
    {
     "data": {
      "text/plain": [
       "dict_keys(['id', 'createdAt', 'text', 'type', 'canonicalUrl', 'lang', 'likes', 'logView', 'agreeCount', 'disagreeCount', 'todo', 'user'])"
      ]
     },
     "execution_count": 10,
     "metadata": {},
     "output_type": "execute_result"
    }
   ],
   "source": [
    "## Ecco Tips\n",
    "limit = 15 # set limit to be greater than or equal to the total number of tips\n",
    "url = 'https://api.foursquare.com/v2/venues/{}/tips?client_id={}&client_secret={}&v={}&limit={}'.format(venue_id, CLIENT_ID, CLIENT_SECRET, VERSION, limit)\n",
    "results = requests.get(url).json()\n",
    "# Get tips and list of associated features\n",
    "tips = results['response']['tips']['items']\n",
    "tip = results['response']['tips']['items'][0]\n",
    "tip.keys()"
   ]
  },
  {
   "cell_type": "markdown",
   "metadata": {},
   "source": [
    "#### Format column width and display all tips"
   ]
  },
  {
   "cell_type": "code",
   "execution_count": 11,
   "metadata": {},
   "outputs": [
    {
     "data": {
      "text/html": [
       "<div>\n",
       "<style scoped>\n",
       "    .dataframe tbody tr th:only-of-type {\n",
       "        vertical-align: middle;\n",
       "    }\n",
       "\n",
       "    .dataframe tbody tr th {\n",
       "        vertical-align: top;\n",
       "    }\n",
       "\n",
       "    .dataframe thead th {\n",
       "        text-align: right;\n",
       "    }\n",
       "</style>\n",
       "<table border=\"1\" class=\"dataframe\">\n",
       "  <thead>\n",
       "    <tr style=\"text-align: right;\">\n",
       "      <th></th>\n",
       "      <th>text</th>\n",
       "      <th>agreeCount</th>\n",
       "      <th>disagreeCount</th>\n",
       "      <th>id</th>\n",
       "      <th>user.firstName</th>\n",
       "      <th>user.lastName</th>\n",
       "      <th>user.gender</th>\n",
       "      <th>user.id</th>\n",
       "    </tr>\n",
       "  </thead>\n",
       "  <tbody>\n",
       "    <tr>\n",
       "      <th>0</th>\n",
       "      <td>Es un  buen hotel, con una buena relación precio valor. El personal es muy amable y el desayuno está incluido el bastante completo.</td>\n",
       "      <td>0</td>\n",
       "      <td>0</td>\n",
       "      <td>53a9d0bb498ef6e783183b99</td>\n",
       "      <td>Antonio M.</td>\n",
       "      <td>Guerra</td>\n",
       "      <td>male</td>\n",
       "      <td>7949536</td>\n",
       "    </tr>\n",
       "  </tbody>\n",
       "</table>\n",
       "</div>"
      ],
      "text/plain": [
       "                                                                                                                                  text  \\\n",
       "0  Es un  buen hotel, con una buena relación precio valor. El personal es muy amable y el desayuno está incluido el bastante completo.   \n",
       "\n",
       "   agreeCount  disagreeCount                        id user.firstName  \\\n",
       "0  0           0              53a9d0bb498ef6e783183b99  Antonio M.      \n",
       "\n",
       "  user.lastName user.gender  user.id  \n",
       "0  Guerra        male        7949536  "
      ]
     },
     "execution_count": 11,
     "metadata": {},
     "output_type": "execute_result"
    }
   ],
   "source": [
    "pd.set_option('display.max_colwidth', -1)\n",
    "tips_df = json_normalize(tips) # json normalize tips\n",
    "# columns to keep\n",
    "filtered_columns = ['text', 'agreeCount', 'disagreeCount', 'id', 'user.firstName', 'user.lastName', 'user.gender', 'user.id']\n",
    "tips_filtered = tips_df.loc[:, filtered_columns]\n",
    "# display tips\n",
    "tips_filtered"
   ]
  },
  {
   "cell_type": "markdown",
   "metadata": {},
   "source": [
    "#### Define URL, send GET request and display features associated with user"
   ]
  },
  {
   "cell_type": "code",
   "execution_count": 12,
   "metadata": {},
   "outputs": [
    {
     "name": "stdout",
     "output_type": "stream",
     "text": [
      "First Name: Antonio M.\n",
      "Last Name: Guerra\n",
      "Home City: Venezuela\n"
     ]
    }
   ],
   "source": [
    "user_id = '7949536' # user ID with most agree counts and complete profile\n",
    "url = 'https://api.foursquare.com/v2/users/{}?client_id={}&client_secret={}&v={}'.format(user_id, CLIENT_ID, CLIENT_SECRET, VERSION) # define URL\n",
    "# send GET request\n",
    "results = requests.get(url).json()\n",
    "user_data = results['response']['user']\n",
    "# display features associated with user\n",
    "print('First Name: ' + user_data['firstName'])\n",
    "print('Last Name: ' + user_data['lastName'])\n",
    "print('Home City: ' + user_data['homeCity'])"
   ]
  },
  {
   "cell_type": "markdown",
   "metadata": {},
   "source": [
    "#### How many tips has this user submitted?\n"
   ]
  },
  {
   "cell_type": "code",
   "execution_count": 13,
   "metadata": {},
   "outputs": [
    {
     "data": {
      "text/html": [
       "<div>\n",
       "<style scoped>\n",
       "    .dataframe tbody tr th:only-of-type {\n",
       "        vertical-align: middle;\n",
       "    }\n",
       "\n",
       "    .dataframe tbody tr th {\n",
       "        vertical-align: top;\n",
       "    }\n",
       "\n",
       "    .dataframe thead th {\n",
       "        text-align: right;\n",
       "    }\n",
       "</style>\n",
       "<table border=\"1\" class=\"dataframe\">\n",
       "  <thead>\n",
       "    <tr style=\"text-align: right;\">\n",
       "      <th></th>\n",
       "      <th>text</th>\n",
       "      <th>agreeCount</th>\n",
       "      <th>disagreeCount</th>\n",
       "      <th>id</th>\n",
       "    </tr>\n",
       "  </thead>\n",
       "  <tbody>\n",
       "    <tr>\n",
       "      <th>0</th>\n",
       "      <td>Best Flat-Tops in Caracas. Free Wi-Fi. Practice my Cantonese.</td>\n",
       "      <td>0</td>\n",
       "      <td>0</td>\n",
       "      <td>53f26748498ec3df8445d398</td>\n",
       "    </tr>\n",
       "    <tr>\n",
       "      <th>1</th>\n",
       "      <td>Grabando Personal Trainers</td>\n",
       "      <td>1</td>\n",
       "      <td>0</td>\n",
       "      <td>53ebbe9b498ecd2013fbf6ae</td>\n",
       "    </tr>\n",
       "    <tr>\n",
       "      <th>2</th>\n",
       "      <td>El menú es bueno o bastante apetecible. Igualmente se percibe que los dueños les preocupa la atención al cliente</td>\n",
       "      <td>0</td>\n",
       "      <td>0</td>\n",
       "      <td>53e49c90498efcb6027a73cb</td>\n",
       "    </tr>\n",
       "    <tr>\n",
       "      <th>3</th>\n",
       "      <td>Real state-of-the-art personalized training with one of the best performance specialists in the country.</td>\n",
       "      <td>0</td>\n",
       "      <td>0</td>\n",
       "      <td>53e497ae498e4a604fd2817e</td>\n",
       "    </tr>\n",
       "    <tr>\n",
       "      <th>4</th>\n",
       "      <td>Es un conjunto residencial privado muy agradable y bastante seguro para disfrutar de la playa y el descanso.</td>\n",
       "      <td>0</td>\n",
       "      <td>0</td>\n",
       "      <td>53e377e9498e871f219c193d</td>\n",
       "    </tr>\n",
       "    <tr>\n",
       "      <th>5</th>\n",
       "      <td>Los Entrenadores y la buena atención.</td>\n",
       "      <td>0</td>\n",
       "      <td>0</td>\n",
       "      <td>53e37759498eefdb1b33ee9d</td>\n",
       "    </tr>\n",
       "    <tr>\n",
       "      <th>6</th>\n",
       "      <td>Es un BOX de CrossFit  con instructores y una comunidad 100% recomendable.</td>\n",
       "      <td>1</td>\n",
       "      <td>0</td>\n",
       "      <td>53a9d146498eb7c4a04b8ca1</td>\n",
       "    </tr>\n",
       "    <tr>\n",
       "      <th>7</th>\n",
       "      <td>Es un  buen hotel, con una buena relación precio valor. El personal es muy amable y el desayuno está incluido el bastante completo.</td>\n",
       "      <td>0</td>\n",
       "      <td>0</td>\n",
       "      <td>53a9d0bb498ef6e783183b99</td>\n",
       "    </tr>\n",
       "    <tr>\n",
       "      <th>8</th>\n",
       "      <td>Este lugar está en decadencia igual que Venezuela es una representación de todas las carencias que estamos sufriendo hace muchos años era un lugar bastante cómodo para esperar una salida internacional</td>\n",
       "      <td>0</td>\n",
       "      <td>0</td>\n",
       "      <td>53a9d03d498ea04fa5c54353</td>\n",
       "    </tr>\n",
       "    <tr>\n",
       "      <th>9</th>\n",
       "      <td>Esta es una las mejores salas VIP. Posee un excelente bar para Elaborar ensaladas saludables. Búsquenlo al subir la escalera está hacia el lado izquierdo al fondo. Buen provecho.</td>\n",
       "      <td>1</td>\n",
       "      <td>1</td>\n",
       "      <td>53a9cfc1498e6aaab5362211</td>\n",
       "    </tr>\n",
       "    <tr>\n",
       "      <th>10</th>\n",
       "      <td>Es una de las ventanas que ofrece El Cafetal.</td>\n",
       "      <td>1</td>\n",
       "      <td>0</td>\n",
       "      <td>5326270f498e29d9d6c2f8cb</td>\n",
       "    </tr>\n",
       "    <tr>\n",
       "      <th>11</th>\n",
       "      <td>Good customer service!!</td>\n",
       "      <td>1</td>\n",
       "      <td>0</td>\n",
       "      <td>52ffc2c5498ec085e3f841dd</td>\n",
       "    </tr>\n",
       "    <tr>\n",
       "      <th>12</th>\n",
       "      <td>Good reading material</td>\n",
       "      <td>0</td>\n",
       "      <td>0</td>\n",
       "      <td>52b617fc498e1468b266d9cc</td>\n",
       "    </tr>\n",
       "    <tr>\n",
       "      <th>13</th>\n",
       "      <td>El Restarant lo cierran a las 4:00pm</td>\n",
       "      <td>0</td>\n",
       "      <td>0</td>\n",
       "      <td>52a8ecf211d24aafdec24755</td>\n",
       "    </tr>\n",
       "    <tr>\n",
       "      <th>14</th>\n",
       "      <td>ERA una buena opción kosher en Caracas, lamentablemente disminuyo la calidad y el servicio.</td>\n",
       "      <td>0</td>\n",
       "      <td>0</td>\n",
       "      <td>526dcd6b498ee3fd819fb435</td>\n",
       "    </tr>\n",
       "  </tbody>\n",
       "</table>\n",
       "</div>"
      ],
      "text/plain": [
       "                                                                                                                                                                                                        text  \\\n",
       "0   Best Flat-Tops in Caracas. Free Wi-Fi. Practice my Cantonese.                                                                                                                                              \n",
       "1   Grabando Personal Trainers                                                                                                                                                                                 \n",
       "2   El menú es bueno o bastante apetecible. Igualmente se percibe que los dueños les preocupa la atención al cliente                                                                                           \n",
       "3   Real state-of-the-art personalized training with one of the best performance specialists in the country.                                                                                                   \n",
       "4   Es un conjunto residencial privado muy agradable y bastante seguro para disfrutar de la playa y el descanso.                                                                                               \n",
       "5   Los Entrenadores y la buena atención.                                                                                                                                                                      \n",
       "6   Es un BOX de CrossFit  con instructores y una comunidad 100% recomendable.                                                                                                                                 \n",
       "7   Es un  buen hotel, con una buena relación precio valor. El personal es muy amable y el desayuno está incluido el bastante completo.                                                                        \n",
       "8   Este lugar está en decadencia igual que Venezuela es una representación de todas las carencias que estamos sufriendo hace muchos años era un lugar bastante cómodo para esperar una salida internacional   \n",
       "9   Esta es una las mejores salas VIP. Posee un excelente bar para Elaborar ensaladas saludables. Búsquenlo al subir la escalera está hacia el lado izquierdo al fondo. Buen provecho.                         \n",
       "10  Es una de las ventanas que ofrece El Cafetal.                                                                                                                                                              \n",
       "11  Good customer service!!                                                                                                                                                                                    \n",
       "12  Good reading material                                                                                                                                                                                      \n",
       "13  El Restarant lo cierran a las 4:00pm                                                                                                                                                                       \n",
       "14  ERA una buena opción kosher en Caracas, lamentablemente disminuyo la calidad y el servicio.                                                                                                                \n",
       "\n",
       "    agreeCount  disagreeCount                        id  \n",
       "0   0           0              53f26748498ec3df8445d398  \n",
       "1   1           0              53ebbe9b498ecd2013fbf6ae  \n",
       "2   0           0              53e49c90498efcb6027a73cb  \n",
       "3   0           0              53e497ae498e4a604fd2817e  \n",
       "4   0           0              53e377e9498e871f219c193d  \n",
       "5   0           0              53e37759498eefdb1b33ee9d  \n",
       "6   1           0              53a9d146498eb7c4a04b8ca1  \n",
       "7   0           0              53a9d0bb498ef6e783183b99  \n",
       "8   0           0              53a9d03d498ea04fa5c54353  \n",
       "9   1           1              53a9cfc1498e6aaab5362211  \n",
       "10  1           0              5326270f498e29d9d6c2f8cb  \n",
       "11  1           0              52ffc2c5498ec085e3f841dd  \n",
       "12  0           0              52b617fc498e1468b266d9cc  \n",
       "13  0           0              52a8ecf211d24aafdec24755  \n",
       "14  0           0              526dcd6b498ee3fd819fb435  "
      ]
     },
     "execution_count": 13,
     "metadata": {},
     "output_type": "execute_result"
    }
   ],
   "source": [
    "user_data['tips']\n",
    "# Wow! So it turns out that Nick is a very active Foursquare user, with more than 250 tips.\n",
    "# define tips URL\n",
    "url = 'https://api.foursquare.com/v2/users/{}/tips?client_id={}&client_secret={}&v={}&limit={}'.format(user_id, CLIENT_ID, CLIENT_SECRET, VERSION, limit)\n",
    "# send GET request and get user's tips\n",
    "results = requests.get(url).json()\n",
    "tips = results['response']['tips']['items']\n",
    "# format column width\n",
    "pd.set_option('display.max_colwidth', -1)\n",
    "tips_df = json_normalize(tips)\n",
    "# filter columns\n",
    "filtered_columns = ['text', 'agreeCount', 'disagreeCount', 'id']\n",
    "tips_filtered = tips_df.loc[:, filtered_columns]\n",
    "# display user's tips\n",
    "tips_filtered"
   ]
  },
  {
   "cell_type": "markdown",
   "metadata": {},
   "source": [
    "#### Let's get the venue for the tip with the greatest number of agree counts"
   ]
  },
  {
   "cell_type": "code",
   "execution_count": 14,
   "metadata": {},
   "outputs": [
    {
     "name": "stdout",
     "output_type": "stream",
     "text": [
      "Patio de Comidas del Malecón del Salado\n",
      "{'address': 'Malecón del Salado', 'lat': -2.1889387927608963, 'lng': -79.90038136965575, 'labeledLatLngs': [{'label': 'display', 'lat': -2.1889387927608963, 'lng': -79.90038136965575}], 'cc': 'EC', 'city': 'Guayaquil', 'state': 'Guayas', 'country': 'Ecuador', 'formattedAddress': ['Malecón del Salado', 'Guayaquil', 'Ecuador']}\n"
     ]
    }
   ],
   "source": [
    "tip_id = '5bd4cbcf250cab002c7cd63b' # tip id\n",
    "url = 'http://api.foursquare.com/v2/tips/{}?client_id={}&client_secret={}&v={}'.format(tip_id, CLIENT_ID, CLIENT_SECRET, VERSION)\n",
    "result = requests.get(url).json()\n",
    "print(result['response']['tip']['venue']['name'])\n",
    "print(result['response']['tip']['venue']['location'])"
   ]
  },
  {
   "cell_type": "markdown",
   "metadata": {},
   "source": [
    "#### Get User's friends"
   ]
  },
  {
   "cell_type": "code",
   "execution_count": 15,
   "metadata": {},
   "outputs": [
    {
     "data": {
      "text/plain": [
       "{'id': '7949536',\n",
       " 'firstName': 'Antonio M.',\n",
       " 'lastName': 'Guerra',\n",
       " 'gender': 'male',\n",
       " 'canonicalUrl': 'https://foursquare.com/ubsnet',\n",
       " 'photo': {'prefix': 'https://fastly.4sqi.net/img/user/',\n",
       "  'suffix': '/5NICN2WKBOQS0ZOM.jpg'},\n",
       " 'friends': {'count': 61,\n",
       "  'groups': [{'type': 'others',\n",
       "    'name': 'Other friends',\n",
       "    'count': 61,\n",
       "    'items': [{'id': '3795903',\n",
       "      'firstName': 'SarkASStiko',\n",
       "      'lastName': 'Amilcar Rodriguez M.',\n",
       "      'gender': 'male',\n",
       "      'photo': {'prefix': 'https://fastly.4sqi.net/img/user/',\n",
       "       'suffix': '/3795903_MHSCr8Oq_uDGdR-Z0DIujGBbZBXGHZ-cLP8zPKG4GHe91uUB4pyFvt7RkEfuzCUAhWM0KDHzh.jpg'},\n",
       "      'tips': {'count': 162},\n",
       "      'lists': {'groups': [{'type': 'created', 'count': 2, 'items': []}]},\n",
       "      'homeCity': 'Caracas, Venezuela',\n",
       "      'bio': '',\n",
       "      'contact': {}},\n",
       "     {'id': '88589933',\n",
       "      'firstName': 'José Francisco',\n",
       "      'lastName': 'Romero',\n",
       "      'gender': 'male',\n",
       "      'photo': {'prefix': 'https://fastly.4sqi.net/img/user/',\n",
       "       'suffix': '/88589933_iKqbxOsQ_ykG3fFUlo7fPG5q73-EUb-PBG9hdfV5DPcz6LhJ7bzuigCLmDpGS_oRScFiDfmwr'},\n",
       "      'tips': {'count': 11},\n",
       "      'lists': {'groups': [{'type': 'created', 'count': 2, 'items': []}]},\n",
       "      'homeCity': 'Montréal, QC',\n",
       "      'bio': 'Made in Venezuela',\n",
       "      'contact': {}},\n",
       "     {'id': '114373372',\n",
       "      'firstName': 'Alfredo',\n",
       "      'lastName': 'Villamizar Rivas',\n",
       "      'gender': 'male',\n",
       "      'photo': {'prefix': 'https://fastly.4sqi.net/img/user/',\n",
       "       'suffix': '/114373372-AEVX12IZ3SEFBIZM.jpg'},\n",
       "      'tips': {'count': 1},\n",
       "      'lists': {'groups': [{'type': 'created', 'count': 2, 'items': []}]},\n",
       "      'homeCity': 'Caracas, Venezuela',\n",
       "      'bio': '',\n",
       "      'contact': {}},\n",
       "     {'id': '65444467',\n",
       "      'firstName': 'Adriana',\n",
       "      'lastName': 'Natalicchio',\n",
       "      'gender': 'female',\n",
       "      'photo': {'prefix': 'https://fastly.4sqi.net/img/user/',\n",
       "       'suffix': '/65444467-UXYX5B04H3OC4YSJ.jpg'},\n",
       "      'tips': {'count': 2},\n",
       "      'lists': {'groups': [{'type': 'created', 'count': 2, 'items': []}]},\n",
       "      'homeCity': 'Caracas, 25',\n",
       "      'bio': '',\n",
       "      'contact': {}},\n",
       "     {'id': '84634797',\n",
       "      'firstName': 'Luis',\n",
       "      'lastName': 'Hung',\n",
       "      'gender': 'male',\n",
       "      'photo': {'prefix': 'https://fastly.4sqi.net/img/user/',\n",
       "       'suffix': '/84634797-F5MNFDJQOV5PMEOV.jpg'},\n",
       "      'tips': {'count': 4},\n",
       "      'lists': {'groups': [{'type': 'created', 'count': 2, 'items': []}]},\n",
       "      'homeCity': 'Distrito Federal',\n",
       "      'bio': '',\n",
       "      'contact': {}},\n",
       "     {'id': '47379867',\n",
       "      'firstName': 'Gianfranco',\n",
       "      'lastName': 'Caporella',\n",
       "      'gender': 'male',\n",
       "      'photo': {'prefix': 'https://fastly.4sqi.net/img/user/',\n",
       "       'suffix': '/IRXWD3QD3KTGSCGQ.jpg'},\n",
       "      'tips': {'count': 0},\n",
       "      'lists': {'groups': [{'type': 'created', 'count': 2, 'items': []}]},\n",
       "      'homeCity': 'Miranda',\n",
       "      'bio': '',\n",
       "      'contact': {}},\n",
       "     {'id': '10937893',\n",
       "      'firstName': 'Rebecca',\n",
       "      'lastName': 'Radacky',\n",
       "      'gender': 'female',\n",
       "      'photo': {'prefix': 'https://fastly.4sqi.net/img/user/',\n",
       "       'suffix': '/XOQLLW2OLEMSIDSG.jpg'},\n",
       "      'tips': {'count': 1},\n",
       "      'lists': {'groups': [{'type': 'created', 'count': 3, 'items': []}]},\n",
       "      'homeCity': 'Williston, FL',\n",
       "      'bio': '',\n",
       "      'contact': {}},\n",
       "     {'id': '81796360',\n",
       "      'firstName': 'Katie',\n",
       "      'lastName': 'Flower',\n",
       "      'gender': 'female',\n",
       "      'photo': {'prefix': 'https://fastly.4sqi.net/img/user/',\n",
       "       'suffix': '/81796360-SQH5L5XLO3RB4UIV.jpg'},\n",
       "      'tips': {'count': 0},\n",
       "      'lists': {'groups': [{'type': 'created', 'count': 2, 'items': []}]},\n",
       "      'homeCity': '',\n",
       "      'bio': '',\n",
       "      'contact': {}},\n",
       "     {'id': '11403215',\n",
       "      'firstName': 'Georgina',\n",
       "      'lastName': 'Beruff',\n",
       "      'gender': 'female',\n",
       "      'photo': {'prefix': 'https://fastly.4sqi.net/img/user/',\n",
       "       'suffix': '/YD1NV23EPTKSN20T.jpg'},\n",
       "      'tips': {'count': 0},\n",
       "      'lists': {'groups': [{'type': 'created', 'count': 2, 'items': []}]},\n",
       "      'homeCity': 'Gainesville, FL',\n",
       "      'bio': '',\n",
       "      'contact': {}},\n",
       "     {'id': '50846890',\n",
       "      'firstName': 'Antonio',\n",
       "      'lastName': 'Medina Gualdrón',\n",
       "      'gender': 'male',\n",
       "      'photo': {'prefix': 'https://fastly.4sqi.net/img/user/',\n",
       "       'suffix': '/50846890-1H1OATKJUV52BNWU.jpg'},\n",
       "      'tips': {'count': 2},\n",
       "      'lists': {'groups': [{'type': 'created', 'count': 2, 'items': []}]},\n",
       "      'homeCity': 'Caracas, Venezuela',\n",
       "      'bio': '',\n",
       "      'contact': {}}]}]},\n",
       " 'tips': {'count': 32},\n",
       " 'homeCity': 'Venezuela',\n",
       " 'bio': '',\n",
       " 'contact': {},\n",
       " 'photos': {'count': 0, 'items': []},\n",
       " 'type': 'user',\n",
       " 'mayorships': {'count': 0, 'items': []},\n",
       " 'checkins': {'count': 5454, 'items': []},\n",
       " 'lists': {'count': 2,\n",
       "  'groups': [{'type': 'created', 'count': 0, 'items': []},\n",
       "   {'type': 'followed', 'count': 0, 'items': []},\n",
       "   {'type': 'yours',\n",
       "    'count': 2,\n",
       "    'items': [{'id': '7949536/todos',\n",
       "      'name': \"Antonio M.'s Saved Places\",\n",
       "      'description': '',\n",
       "      'type': 'todos',\n",
       "      'editable': False,\n",
       "      'public': True,\n",
       "      'collaborative': False,\n",
       "      'url': '/ubsnet/list/todos',\n",
       "      'canonicalUrl': 'https://foursquare.com/ubsnet/list/todos',\n",
       "      'listItems': {'count': 2}},\n",
       "     {'id': '7949536/venuelikes',\n",
       "      'name': 'Antonio M.’s Liked Places',\n",
       "      'description': '',\n",
       "      'type': 'likes',\n",
       "      'editable': False,\n",
       "      'public': True,\n",
       "      'collaborative': False,\n",
       "      'url': '/ubsnet/list/venuelikes',\n",
       "      'canonicalUrl': 'https://foursquare.com/ubsnet/list/venuelikes',\n",
       "      'listItems': {'count': 0}}]}]},\n",
       " 'lenses': []}"
      ]
     },
     "execution_count": 15,
     "metadata": {},
     "output_type": "execute_result"
    }
   ],
   "source": [
    "user_friends = json_normalize(user_data['friends']['groups'][0]['items'])\n",
    "user_friends\n",
    "user_data"
   ]
  },
  {
   "cell_type": "code",
   "execution_count": 16,
   "metadata": {},
   "outputs": [
    {
     "data": {
      "text/html": [
       "<img src=\"https://fastly.4sqi.net/img/user/width960/5NICN2WKBOQS0ZOM.jpg\"/>"
      ],
      "text/plain": [
       "<IPython.core.display.Image object>"
      ]
     },
     "execution_count": 16,
     "metadata": {},
     "output_type": "execute_result"
    }
   ],
   "source": [
    "from IPython.display import Image \n",
    "Image(url='https://fastly.4sqi.net/img/user/width960/5NICN2WKBOQS0ZOM.jpg')"
   ]
  },
  {
   "cell_type": "markdown",
   "metadata": {},
   "source": [
    "#### Let's examine the commercial premises around the Hotel Gallery"
   ]
  },
  {
   "cell_type": "code",
   "execution_count": 17,
   "metadata": {},
   "outputs": [
    {
     "data": {
      "text/plain": [
       "'There are 10 around Ecco restaurant.'"
      ]
     },
     "execution_count": 17,
     "metadata": {},
     "output_type": "execute_result"
    }
   ],
   "source": [
    "latitude = -2.188457\n",
    "longitude = -79.891399\n",
    "raius=500\n",
    "LIMIT=10\n",
    "url = 'https://api.foursquare.com/v2/venues/explore?client_id={}&client_secret={}&ll={},{}&v={}&radius={}&limit={}'.format(CLIENT_ID, CLIENT_SECRET, latitude, longitude, VERSION, radius, LIMIT)\n",
    "import requests\n",
    "results = requests.get(url).json()\n",
    "'There are {} around Ecco restaurant.'.format(len(results['response']['groups'][0]['items']))"
   ]
  },
  {
   "cell_type": "code",
   "execution_count": 18,
   "metadata": {},
   "outputs": [
    {
     "data": {
      "text/plain": [
       "{'reasons': {'count': 0,\n",
       "  'items': [{'summary': 'This spot is popular',\n",
       "    'type': 'general',\n",
       "    'reasonName': 'globalInteractionReason'}]},\n",
       " 'venue': {'id': '4cd4674adfb4a1cd96f3525c',\n",
       "  'name': 'Guayaquil Tennis Club',\n",
       "  'location': {'address': 'Centro',\n",
       "   'crossStreet': 'Av. Nueve de Octubre',\n",
       "   'lat': -2.1869572757970386,\n",
       "   'lng': -79.89747401803022,\n",
       "   'labeledLatLngs': [{'label': 'display',\n",
       "     'lat': -2.1869572757970386,\n",
       "     'lng': -79.89747401803022}],\n",
       "   'distance': 696,\n",
       "   'cc': 'EC',\n",
       "   'city': 'Guayaquil',\n",
       "   'state': 'Guayas',\n",
       "   'country': 'Ecuador',\n",
       "   'formattedAddress': ['Centro (Av. Nueve de Octubre)',\n",
       "    'Guayaquil',\n",
       "    'Ecuador']},\n",
       "  'categories': [{'id': '52e81612bcbc57f1066b7a2e',\n",
       "    'name': 'Sports Club',\n",
       "    'pluralName': 'Sports Clubs',\n",
       "    'shortName': 'Sports Club',\n",
       "    'icon': {'prefix': 'https://ss3.4sqi.net/img/categories_v2/shops/sports_outdoors_',\n",
       "     'suffix': '.png'},\n",
       "    'primary': True}],\n",
       "  'photos': {'count': 0, 'groups': []}},\n",
       " 'referralId': 'e-0-4cd4674adfb4a1cd96f3525c-0'}"
      ]
     },
     "execution_count": 18,
     "metadata": {},
     "output_type": "execute_result"
    }
   ],
   "source": [
    "items = results['response']['groups'][0]['items']\n",
    "items[0]"
   ]
  },
  {
   "cell_type": "markdown",
   "metadata": {},
   "source": [
    "#### Let's show the places that the application found\n"
   ]
  },
  {
   "cell_type": "code",
   "execution_count": 19,
   "metadata": {},
   "outputs": [
    {
     "data": {
      "text/html": [
       "<div>\n",
       "<style scoped>\n",
       "    .dataframe tbody tr th:only-of-type {\n",
       "        vertical-align: middle;\n",
       "    }\n",
       "\n",
       "    .dataframe tbody tr th {\n",
       "        vertical-align: top;\n",
       "    }\n",
       "\n",
       "    .dataframe thead th {\n",
       "        text-align: right;\n",
       "    }\n",
       "</style>\n",
       "<table border=\"1\" class=\"dataframe\">\n",
       "  <thead>\n",
       "    <tr style=\"text-align: right;\">\n",
       "      <th></th>\n",
       "      <th>name</th>\n",
       "      <th>categories</th>\n",
       "      <th>address</th>\n",
       "      <th>cc</th>\n",
       "      <th>city</th>\n",
       "      <th>country</th>\n",
       "      <th>crossStreet</th>\n",
       "      <th>distance</th>\n",
       "      <th>formattedAddress</th>\n",
       "      <th>labeledLatLngs</th>\n",
       "      <th>lat</th>\n",
       "      <th>lng</th>\n",
       "      <th>postalCode</th>\n",
       "      <th>state</th>\n",
       "      <th>id</th>\n",
       "    </tr>\n",
       "  </thead>\n",
       "  <tbody>\n",
       "    <tr>\n",
       "      <th>0</th>\n",
       "      <td>Guayaquil Tennis Club</td>\n",
       "      <td>Sports Club</td>\n",
       "      <td>Centro</td>\n",
       "      <td>EC</td>\n",
       "      <td>Guayaquil</td>\n",
       "      <td>Ecuador</td>\n",
       "      <td>Av. Nueve de Octubre</td>\n",
       "      <td>696</td>\n",
       "      <td>[Centro (Av. Nueve de Octubre), Guayaquil, Ecuador]</td>\n",
       "      <td>[{'label': 'display', 'lat': -2.1869572757970386, 'lng': -79.89747401803022}]</td>\n",
       "      <td>-2.186957</td>\n",
       "      <td>-79.897474</td>\n",
       "      <td>NaN</td>\n",
       "      <td>Guayas</td>\n",
       "      <td>4cd4674adfb4a1cd96f3525c</td>\n",
       "    </tr>\n",
       "    <tr>\n",
       "      <th>1</th>\n",
       "      <td>Malecón del Salado</td>\n",
       "      <td>Park</td>\n",
       "      <td>Blvd. 9 de Octubre</td>\n",
       "      <td>EC</td>\n",
       "      <td>Guayaquil</td>\n",
       "      <td>Ecuador</td>\n",
       "      <td>Tungurahua</td>\n",
       "      <td>555</td>\n",
       "      <td>[Blvd. 9 de Octubre (Tungurahua), Guayaquil, Ecuador]</td>\n",
       "      <td>[{'label': 'display', 'lat': -2.186144629378362, 'lng': -79.89582733056146}]</td>\n",
       "      <td>-2.186145</td>\n",
       "      <td>-79.895827</td>\n",
       "      <td>NaN</td>\n",
       "      <td>Guayas</td>\n",
       "      <td>4b85dc8df964a520c27631e3</td>\n",
       "    </tr>\n",
       "    <tr>\n",
       "      <th>2</th>\n",
       "      <td>Plaza Rodolfo Baquerizo Moreno</td>\n",
       "      <td>Park</td>\n",
       "      <td>Av. 9 de Octubre</td>\n",
       "      <td>EC</td>\n",
       "      <td>Guayaquil</td>\n",
       "      <td>Ecuador</td>\n",
       "      <td>Tungurahua</td>\n",
       "      <td>606</td>\n",
       "      <td>[Av. 9 de Octubre (Tungurahua), 593, Guayaquil, Ecuador]</td>\n",
       "      <td>[{'label': 'display', 'lat': -2.1865423031488134, 'lng': -79.8965048789978}]</td>\n",
       "      <td>-2.186542</td>\n",
       "      <td>-79.896505</td>\n",
       "      <td>593</td>\n",
       "      <td>Guayas</td>\n",
       "      <td>4e49ad00b61c688648519da6</td>\n",
       "    </tr>\n",
       "    <tr>\n",
       "      <th>3</th>\n",
       "      <td>Hotel Oro Verde</td>\n",
       "      <td>Hotel</td>\n",
       "      <td>9 de octubre</td>\n",
       "      <td>EC</td>\n",
       "      <td>Guayaquil</td>\n",
       "      <td>Ecuador</td>\n",
       "      <td>Avenida del Ejercito</td>\n",
       "      <td>29</td>\n",
       "      <td>[9 de octubre (Avenida del Ejercito), Guayaquil, Ecuador]</td>\n",
       "      <td>[{'label': 'display', 'lat': -2.188692512880955, 'lng': -79.8915129195173}]</td>\n",
       "      <td>-2.188693</td>\n",
       "      <td>-79.891513</td>\n",
       "      <td>NaN</td>\n",
       "      <td>Guayas</td>\n",
       "      <td>4b854903f964a5209e5431e3</td>\n",
       "    </tr>\n",
       "    <tr>\n",
       "      <th>4</th>\n",
       "      <td>El Patio</td>\n",
       "      <td>Restaurant</td>\n",
       "      <td>Hotel Oro Verde</td>\n",
       "      <td>EC</td>\n",
       "      <td>Guayaquil</td>\n",
       "      <td>Ecuador</td>\n",
       "      <td>Av. 9 de Octubre</td>\n",
       "      <td>73</td>\n",
       "      <td>[Hotel Oro Verde (Av. 9 de Octubre), Guayaquil, Ecuador]</td>\n",
       "      <td>[{'label': 'display', 'lat': -2.1891022403682605, 'lng': -79.89152678417355}]</td>\n",
       "      <td>-2.189102</td>\n",
       "      <td>-79.891527</td>\n",
       "      <td>NaN</td>\n",
       "      <td>Guayas Province</td>\n",
       "      <td>4de428f7d164df8575244d1f</td>\n",
       "    </tr>\n",
       "  </tbody>\n",
       "</table>\n",
       "</div>"
      ],
      "text/plain": [
       "                             name   categories             address  cc  \\\n",
       "0  Guayaquil Tennis Club           Sports Club  Centro              EC   \n",
       "1  Malecón del Salado              Park         Blvd. 9 de Octubre  EC   \n",
       "2  Plaza Rodolfo Baquerizo Moreno  Park         Av. 9 de Octubre    EC   \n",
       "3  Hotel Oro Verde                 Hotel        9 de octubre        EC   \n",
       "4  El Patio                        Restaurant   Hotel Oro Verde     EC   \n",
       "\n",
       "        city  country           crossStreet  distance  \\\n",
       "0  Guayaquil  Ecuador  Av. Nueve de Octubre  696        \n",
       "1  Guayaquil  Ecuador  Tungurahua            555        \n",
       "2  Guayaquil  Ecuador  Tungurahua            606        \n",
       "3  Guayaquil  Ecuador  Avenida del Ejercito  29         \n",
       "4  Guayaquil  Ecuador  Av. 9 de Octubre      73         \n",
       "\n",
       "                                            formattedAddress  \\\n",
       "0  [Centro (Av. Nueve de Octubre), Guayaquil, Ecuador]         \n",
       "1  [Blvd. 9 de Octubre (Tungurahua), Guayaquil, Ecuador]       \n",
       "2  [Av. 9 de Octubre (Tungurahua), 593, Guayaquil, Ecuador]    \n",
       "3  [9 de octubre (Avenida del Ejercito), Guayaquil, Ecuador]   \n",
       "4  [Hotel Oro Verde (Av. 9 de Octubre), Guayaquil, Ecuador]    \n",
       "\n",
       "                                                                  labeledLatLngs  \\\n",
       "0  [{'label': 'display', 'lat': -2.1869572757970386, 'lng': -79.89747401803022}]   \n",
       "1  [{'label': 'display', 'lat': -2.186144629378362, 'lng': -79.89582733056146}]    \n",
       "2  [{'label': 'display', 'lat': -2.1865423031488134, 'lng': -79.8965048789978}]    \n",
       "3  [{'label': 'display', 'lat': -2.188692512880955, 'lng': -79.8915129195173}]     \n",
       "4  [{'label': 'display', 'lat': -2.1891022403682605, 'lng': -79.89152678417355}]   \n",
       "\n",
       "        lat        lng postalCode            state                        id  \n",
       "0 -2.186957 -79.897474  NaN        Guayas           4cd4674adfb4a1cd96f3525c  \n",
       "1 -2.186145 -79.895827  NaN        Guayas           4b85dc8df964a520c27631e3  \n",
       "2 -2.186542 -79.896505  593        Guayas           4e49ad00b61c688648519da6  \n",
       "3 -2.188693 -79.891513  NaN        Guayas           4b854903f964a5209e5431e3  \n",
       "4 -2.189102 -79.891527  NaN        Guayas Province  4de428f7d164df8575244d1f  "
      ]
     },
     "execution_count": 19,
     "metadata": {},
     "output_type": "execute_result"
    }
   ],
   "source": [
    "dataframe = json_normalize(items) # flatten JSON\n",
    "# filter columns\n",
    "filtered_columns = ['venue.name', 'venue.categories'] + [col for col in dataframe.columns if col.startswith('venue.location.')] + ['venue.id']\n",
    "dataframe_filtered = dataframe.loc[:, filtered_columns]\n",
    "# filter the category for each row\n",
    "dataframe_filtered['venue.categories'] = dataframe_filtered.apply(get_category_type, axis=1)\n",
    "# clean columns\n",
    "dataframe_filtered.columns = [col.split('.')[-1] for col in dataframe_filtered.columns]\n",
    "dataframe_filtered.head()"
   ]
  },
  {
   "cell_type": "code",
   "execution_count": 20,
   "metadata": {},
   "outputs": [
    {
     "data": {
      "text/html": [
       "<div style=\"width:100%;\"><div style=\"position:relative;width:100%;height:0;padding-bottom:60%;\"><iframe src=\"data:text/html;charset=utf-8;base64,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\" style=\"position:absolute;width:100%;height:100%;left:0;top:0;border:none !important;\" allowfullscreen webkitallowfullscreen mozallowfullscreen></iframe></div></div>"
      ],
      "text/plain": [
       "<folium.folium.Map at 0x248388929e8>"
      ]
     },
     "metadata": {},
     "output_type": "display_data"
    }
   ],
   "source": [
    "restaurants_map = folium.Map(location=[latitude, longitude], zoom_start=15) # generate map centred around Ecco\n",
    "# add Ecco as a red circle mark\n",
    "folium.features.CircleMarker(\n",
    "    [latitude, longitude],\n",
    "    radius=10,\n",
    "    popup='Ecco',\n",
    "    fill=True,\n",
    "    color='red',\n",
    "    fill_color='red',\n",
    "    fill_opacity=0.6\n",
    "    ).add_to(restaurants_map )\n",
    "# add popular spots to the map as blue circle markers\n",
    "for lat, lng, label in zip(dataframe_filtered['lat'], dataframe_filtered['lng'], dataframe_filtered['categories']):\n",
    "    folium.features.CircleMarker(\n",
    "        [lat, lng],\n",
    "        radius=5,\n",
    "        popup=label,\n",
    "        fill=True,\n",
    "        color='blue',\n",
    "        fill_color='blue',\n",
    "        fill_opacity=0.6\n",
    "        ).add_to(restaurants_map)\n",
    "    \n",
    "display(restaurants_map)"
   ]
  },
  {
   "cell_type": "markdown",
   "metadata": {},
   "source": [
    "#### Explore now the crowded places in Guayaquil"
   ]
  },
  {
   "cell_type": "code",
   "execution_count": 21,
   "metadata": {},
   "outputs": [
    {
     "name": "stdout",
     "output_type": "stream",
     "text": [
      "The geograpical coordinate of Guayaquil City are -2.1898771, -79.8877153.\n"
     ]
    }
   ],
   "source": [
    "import numpy as np # library to handle data in a vectorized manner\n",
    "pd.set_option('display.max_columns', None)\n",
    "pd.set_option('display.max_rows', None)\n",
    "from geopy.geocoders import Nominatim # convert an address into latitude and longitude values\n",
    "from pandas.io.json import json_normalize # tranform JSON file into a pandas dataframe\n",
    "import folium\n",
    "guayaquil_data=df\n",
    "address = 'Guayaquil'\n",
    "geolocator = Nominatim(user_agent=\"ny_explorer\")\n",
    "location = geolocator.geocode(address)\n",
    "latitude = location.latitude\n",
    "longitude = location.longitude\n",
    "print('The geograpical coordinate of Guayaquil City are {}, {}.'.format(latitude, longitude))"
   ]
  },
  {
   "cell_type": "code",
   "execution_count": 22,
   "metadata": {},
   "outputs": [],
   "source": [
    "neighborhood_latitude = latitude # neighborhood latitude value\n",
    "neighborhood_longitude = longitude # neighborhood longitude value\n",
    "neighborhood_name = \"Ayacucho\" # neighborhood name"
   ]
  },
  {
   "cell_type": "code",
   "execution_count": 23,
   "metadata": {},
   "outputs": [],
   "source": [
    "LIMIT = 100 # limit of number of venues returned by Foursquare API\n",
    "radius = 500 # define radius\n",
    "url = 'https://api.foursquare.com/v2/venues/explore?&client_id={}&client_secret={}&v={}&ll={},{}&radius={}&limit={}'.format(CLIENT_ID,CLIENT_SECRET,VERSION,neighborhood_latitude,neighborhood_longitude,radius,LIMIT)\n",
    "results = requests.get(url).json()\n",
    "# function that extracts the category of the venue\n",
    "def get_category_type(row):\n",
    "    try:\n",
    "        categories_list = row['categories']\n",
    "    except:\n",
    "        categories_list = row['venue.categories']\n",
    "        \n",
    "    if len(categories_list) == 0:\n",
    "        return None\n",
    "    else:\n",
    "        return categories_list[0]['name']"
   ]
  },
  {
   "cell_type": "code",
   "execution_count": 24,
   "metadata": {},
   "outputs": [
    {
     "data": {
      "text/html": [
       "<div>\n",
       "<style scoped>\n",
       "    .dataframe tbody tr th:only-of-type {\n",
       "        vertical-align: middle;\n",
       "    }\n",
       "\n",
       "    .dataframe tbody tr th {\n",
       "        vertical-align: top;\n",
       "    }\n",
       "\n",
       "    .dataframe thead th {\n",
       "        text-align: right;\n",
       "    }\n",
       "</style>\n",
       "<table border=\"1\" class=\"dataframe\">\n",
       "  <thead>\n",
       "    <tr style=\"text-align: right;\">\n",
       "      <th></th>\n",
       "      <th>name</th>\n",
       "      <th>categories</th>\n",
       "      <th>lat</th>\n",
       "      <th>lng</th>\n",
       "    </tr>\n",
       "  </thead>\n",
       "  <tbody>\n",
       "    <tr>\n",
       "      <th>0</th>\n",
       "      <td>Parque Centenario</td>\n",
       "      <td>Plaza</td>\n",
       "      <td>-2.190062</td>\n",
       "      <td>-79.888239</td>\n",
       "    </tr>\n",
       "    <tr>\n",
       "      <th>1</th>\n",
       "      <td>Faro Cerro Santa Ana</td>\n",
       "      <td>Scenic Lookout</td>\n",
       "      <td>-2.188834</td>\n",
       "      <td>-79.884329</td>\n",
       "    </tr>\n",
       "    <tr>\n",
       "      <th>2</th>\n",
       "      <td>Hotel Oro Verde</td>\n",
       "      <td>Hotel</td>\n",
       "      <td>-2.188693</td>\n",
       "      <td>-79.891513</td>\n",
       "    </tr>\n",
       "    <tr>\n",
       "      <th>3</th>\n",
       "      <td>Salchicha \"Llulan\"</td>\n",
       "      <td>Food</td>\n",
       "      <td>-2.189664</td>\n",
       "      <td>-79.890626</td>\n",
       "    </tr>\n",
       "    <tr>\n",
       "      <th>4</th>\n",
       "      <td>El Patio</td>\n",
       "      <td>Restaurant</td>\n",
       "      <td>-2.189102</td>\n",
       "      <td>-79.891527</td>\n",
       "    </tr>\n",
       "  </tbody>\n",
       "</table>\n",
       "</div>"
      ],
      "text/plain": [
       "                   name      categories       lat        lng\n",
       "0  Parque Centenario     Plaza          -2.190062 -79.888239\n",
       "1  Faro Cerro Santa Ana  Scenic Lookout -2.188834 -79.884329\n",
       "2  Hotel Oro Verde       Hotel          -2.188693 -79.891513\n",
       "3  Salchicha \"Llulan\"    Food           -2.189664 -79.890626\n",
       "4  El Patio              Restaurant     -2.189102 -79.891527"
      ]
     },
     "execution_count": 24,
     "metadata": {},
     "output_type": "execute_result"
    }
   ],
   "source": [
    "venues = results['response']['groups'][0]['items']\n",
    "nearby_venues = json_normalize(venues) # flatten JSON\n",
    "# filter columns\n",
    "filtered_columns = ['venue.name', 'venue.categories', 'venue.location.lat', 'venue.location.lng']\n",
    "nearby_venues =nearby_venues.loc[:, filtered_columns]\n",
    "# filter the category for each row\n",
    "nearby_venues['venue.categories'] = nearby_venues.apply(get_category_type, axis=1)\n",
    "# clean columns\n",
    "nearby_venues.columns = [col.split(\".\")[-1] for col in nearby_venues.columns]\n",
    "nearby_venues.head()"
   ]
  },
  {
   "cell_type": "code",
   "execution_count": 25,
   "metadata": {},
   "outputs": [
    {
     "name": "stdout",
     "output_type": "stream",
     "text": [
      "25 venues were returned by Foursquare.\n"
     ]
    }
   ],
   "source": [
    "print('{} venues were returned by Foursquare.'.format(nearby_venues.shape[0]))"
   ]
  },
  {
   "cell_type": "markdown",
   "metadata": {},
   "source": [
    "#### Let's create a function to repeat the same process to all the neighborhoods in Guayaquil"
   ]
  },
  {
   "cell_type": "code",
   "execution_count": 26,
   "metadata": {},
   "outputs": [],
   "source": [
    "def getNearbyVenues(names, latitudes, longitudes, radius=500):\n",
    "    venues_list=[]\n",
    "    for name, lat, lng in zip(names, latitudes, longitudes):\n",
    "        print(name)\n",
    "        # create the API request URL\n",
    "        url = 'https://api.foursquare.com/v2/venues/explore?&client_id={}&client_secret={}&v={}&ll={},{}&radius={}&limit={}'.format(\n",
    "            CLIENT_ID, \n",
    "            CLIENT_SECRET, \n",
    "            VERSION, \n",
    "            lat, \n",
    "            lng, \n",
    "            radius, \n",
    "            LIMIT)\n",
    "        # make the GET request\n",
    "        results = requests.get(url).json()[\"response\"]['groups'][0]['items']\n",
    "        # return only relevant information for each nearby venue\n",
    "        venues_list.append([(\n",
    "            name, \n",
    "            lat, \n",
    "            lng, \n",
    "            v['venue']['name'], \n",
    "            v['venue']['location']['lat'], \n",
    "            v['venue']['location']['lng'],  \n",
    "            v['venue']['categories'][0]['name']) for v in results])\n",
    "    nearby_venues = pd.DataFrame([item for venue_list in venues_list for item in venue_list])\n",
    "    nearby_venues.columns = ['Neighborhood','Neighborhood Latitude','Neighborhood Longitude','Venue','Venue Latitude','Venue Longitude','Venue Category']\n",
    "    return(nearby_venues)\n"
   ]
  },
  {
   "cell_type": "code",
   "execution_count": 27,
   "metadata": {},
   "outputs": [
    {
     "name": "stdout",
     "output_type": "stream",
     "text": [
      "Ayacucho\n",
      "Bolívar (Sagrario)\n",
      "Carbo (Concepción)\n",
      "Abel Gilbert, Batallón del Suburbio, Estero Salado, Febres Cordero.\n",
      "García Moreno\n",
      "Letamendi, Puerto Lisa.\n",
      "Nueve de Octubre Oeste.\n",
      "Olmedo (San Alejo).\n",
      "Roca\n",
      "Rocafuerte\n",
      "Sucre\n",
      "Acuarela, Comegua, Brisas del Rio, Limonal, Juan Pablo II, Alborada Este, Alborada Oeste, Bellavista\n",
      "Garay\n",
      "Centenario, Cuba, Del Astillero, Floresta, Guangala, Guasmo Este, Guasmo Oeste, Huancavilca, Isla Trinitaria\n",
      "Puerto Azul Norte, Puerto Azul Sur\n",
      "Bastión Popular, Las Orquídeas Este, Las Orquídeas Oeste, Los Vergeles\n"
     ]
    }
   ],
   "source": [
    "guayaquil_venues = getNearbyVenues(names=guayaquil_data['Neighborhood'],latitudes=guayaquil_data['Latitude'],longitudes=guayaquil_data['Longitude'])"
   ]
  },
  {
   "cell_type": "code",
   "execution_count": 31,
   "metadata": {},
   "outputs": [
    {
     "name": "stdout",
     "output_type": "stream",
     "text": [
      "Ayacucho\n",
      "Bolívar\n",
      "Carbo\n",
      "Febres Cordero\n",
      "García Moreno\n",
      "Letamendi\n",
      "Nueve De Octubre\n",
      "Olmedo\n",
      "Roca\n",
      "Rocafuerte\n",
      "Sucre\n",
      "Tarqui\n",
      "Urdaneta\n",
      "Ximena\n",
      "Chongon\n",
      "Pascuales\n"
     ]
    },
    {
     "data": {
      "text/plain": [
       "Text(0, 0.5, 'Count')"
      ]
     },
     "execution_count": 31,
     "metadata": {},
     "output_type": "execute_result"
    },
    {
     "data": {
      "image/png": "[encoded data removed]",
      "text/plain": [
       "<Figure size 432x288 with 1 Axes>"
      ]
     },
     "metadata": {
      "needs_background": "light"
     },
     "output_type": "display_data"
    }
   ],
   "source": [
    "# type your answer here\n",
    "Parish = getNearbyVenues(names=guayaquil_data['Parish'],latitudes=guayaquil_data['Latitude'],longitudes=guayaquil_data['Longitude'])\n",
    "Agruped=Parish.groupby('Neighborhood').count()['Venue'].sort_values()\n",
    "import matplotlib.pyplot as plt\n",
    "Agruped.plot(kind='bar')\n",
    "plt.title('Bar Diagram, Most Busy and Commercial Parishes')\n",
    "plt.xlabel('')\n",
    "plt.ylabel('Count')"
   ]
  },
  {
   "cell_type": "markdown",
   "metadata": {},
   "source": [
    "#### The Pedro Carbo parish is considered downtown of Guayaquil, being in the middle of the tourist area, discotheque, and near the La ferris wheel of Guayaquil, The perla Of Pacifico, and Cerro Santana."
   ]
  },
  {
   "cell_type": "code",
   "execution_count": 32,
   "metadata": {},
   "outputs": [
    {
     "name": "stdout",
     "output_type": "stream",
     "text": [
      "There are 74 uniques categories.\n"
     ]
    }
   ],
   "source": [
    "#Let's find out how many unique categories can be curated from all the returned venues\n",
    "print('There are {} uniques categories.'.format(len(guayaquil_venues['Venue Category'].unique())))"
   ]
  },
  {
   "cell_type": "markdown",
   "metadata": {},
   "source": [
    "#### Let's explore the frequency of the most representative places by parish"
   ]
  },
  {
   "cell_type": "code",
   "execution_count": 33,
   "metadata": {},
   "outputs": [
    {
     "name": "stdout",
     "output_type": "stream",
     "text": [
      "----Abel Gilbert, Batallón del Suburbio, Estero Salado, Febres Cordero.----\n"
     ]
    },
    {
     "ename": "NameError",
     "evalue": "name 'num_top_venues' is not defined",
     "output_type": "error",
     "traceback": [
      "\u001b[1;31m---------------------------------------------------------------------------\u001b[0m",
      "\u001b[1;31mNameError\u001b[0m                                 Traceback (most recent call last)",
      "\u001b[1;32m<ipython-input-33-252d1344f1e1>\u001b[0m in \u001b[0;36m<module>\u001b[1;34m\u001b[0m\n\u001b[0;32m     14\u001b[0m     \u001b[0mtemp\u001b[0m\u001b[1;33m[\u001b[0m\u001b[1;34m'freq'\u001b[0m\u001b[1;33m]\u001b[0m \u001b[1;33m=\u001b[0m \u001b[0mtemp\u001b[0m\u001b[1;33m[\u001b[0m\u001b[1;34m'freq'\u001b[0m\u001b[1;33m]\u001b[0m\u001b[1;33m.\u001b[0m\u001b[0mastype\u001b[0m\u001b[1;33m(\u001b[0m\u001b[0mfloat\u001b[0m\u001b[1;33m)\u001b[0m\u001b[1;33m\u001b[0m\u001b[1;33m\u001b[0m\u001b[0m\n\u001b[0;32m     15\u001b[0m     \u001b[0mtemp\u001b[0m \u001b[1;33m=\u001b[0m \u001b[0mtemp\u001b[0m\u001b[1;33m.\u001b[0m\u001b[0mround\u001b[0m\u001b[1;33m(\u001b[0m\u001b[1;33m{\u001b[0m\u001b[1;34m'freq'\u001b[0m\u001b[1;33m:\u001b[0m \u001b[1;36m2\u001b[0m\u001b[1;33m}\u001b[0m\u001b[1;33m)\u001b[0m\u001b[1;33m\u001b[0m\u001b[1;33m\u001b[0m\u001b[0m\n\u001b[1;32m---> 16\u001b[1;33m     \u001b[0mprint\u001b[0m\u001b[1;33m(\u001b[0m\u001b[0mtemp\u001b[0m\u001b[1;33m.\u001b[0m\u001b[0msort_values\u001b[0m\u001b[1;33m(\u001b[0m\u001b[1;34m'freq'\u001b[0m\u001b[1;33m,\u001b[0m \u001b[0mascending\u001b[0m\u001b[1;33m=\u001b[0m\u001b[1;32mFalse\u001b[0m\u001b[1;33m)\u001b[0m\u001b[1;33m.\u001b[0m\u001b[0mreset_index\u001b[0m\u001b[1;33m(\u001b[0m\u001b[0mdrop\u001b[0m\u001b[1;33m=\u001b[0m\u001b[1;32mTrue\u001b[0m\u001b[1;33m)\u001b[0m\u001b[1;33m.\u001b[0m\u001b[0mhead\u001b[0m\u001b[1;33m(\u001b[0m\u001b[0mnum_top_venues\u001b[0m\u001b[1;33m)\u001b[0m\u001b[1;33m)\u001b[0m\u001b[1;33m\u001b[0m\u001b[1;33m\u001b[0m\u001b[0m\n\u001b[0m\u001b[0;32m     17\u001b[0m     \u001b[0mprint\u001b[0m\u001b[1;33m(\u001b[0m\u001b[1;34m'\\n'\u001b[0m\u001b[1;33m)\u001b[0m\u001b[1;33m\u001b[0m\u001b[1;33m\u001b[0m\u001b[0m\n",
      "\u001b[1;31mNameError\u001b[0m: name 'num_top_venues' is not defined"
     ]
    }
   ],
   "source": [
    "# one hot encoding\n",
    "guayaquil_onehot = pd.get_dummies(guayaquil_venues[['Venue Category']], prefix=\"\", prefix_sep=\"\")\n",
    "# add neighborhood column back to dataframe\n",
    "guayaquil_onehot['Neighborhood'] = guayaquil_venues['Neighborhood'] \n",
    "# move neighborhood column to the first column\n",
    "fixed_columns = [guayaquil_onehot.columns[-1]] + list(guayaquil_onehot.columns[:-1])\n",
    "guayaquil_onehot = guayaquil_onehot[fixed_columns]\n",
    "guayaquil_grouped = guayaquil_onehot.groupby('Neighborhood').mean().reset_index()\n",
    "for hood in guayaquil_grouped['Neighborhood']:\n",
    "    print(\"----\"+hood+\"----\")\n",
    "    temp = guayaquil_grouped[guayaquil_grouped['Neighborhood'] == hood].T.reset_index()\n",
    "    temp.columns = ['venue','freq']\n",
    "    temp = temp.iloc[1:]\n",
    "    temp['freq'] = temp['freq'].astype(float)\n",
    "    temp = temp.round({'freq': 2})\n",
    "    print(temp.sort_values('freq', ascending=False).reset_index(drop=True).head(num_top_venues))\n",
    "    print('\\n')"
   ]
  },
  {
   "cell_type": "markdown",
   "metadata": {},
   "source": [
    "#### Let's show a list of the 5 best known places by Neighborhood"
   ]
  },
  {
   "cell_type": "code",
   "execution_count": 34,
   "metadata": {},
   "outputs": [
    {
     "data": {
      "text/html": [
       "<div>\n",
       "<style scoped>\n",
       "    .dataframe tbody tr th:only-of-type {\n",
       "        vertical-align: middle;\n",
       "    }\n",
       "\n",
       "    .dataframe tbody tr th {\n",
       "        vertical-align: top;\n",
       "    }\n",
       "\n",
       "    .dataframe thead th {\n",
       "        text-align: right;\n",
       "    }\n",
       "</style>\n",
       "<table border=\"1\" class=\"dataframe\">\n",
       "  <thead>\n",
       "    <tr style=\"text-align: right;\">\n",
       "      <th></th>\n",
       "      <th>Neighborhood</th>\n",
       "      <th>1st Most Common Venue</th>\n",
       "      <th>2nd Most Common Venue</th>\n",
       "      <th>3rd Most Common Venue</th>\n",
       "      <th>4th Most Common Venue</th>\n",
       "      <th>5th Most Common Venue</th>\n",
       "    </tr>\n",
       "  </thead>\n",
       "  <tbody>\n",
       "    <tr>\n",
       "      <th>0</th>\n",
       "      <td>Abel Gilbert, Batallón del Suburbio, Estero Salado, Febres Cordero.</td>\n",
       "      <td>Pharmacy</td>\n",
       "      <td>Lounge</td>\n",
       "      <td>Fast Food Restaurant</td>\n",
       "      <td>Convenience Store</td>\n",
       "      <td>Deli / Bodega</td>\n",
       "    </tr>\n",
       "    <tr>\n",
       "      <th>1</th>\n",
       "      <td>Acuarela, Comegua, Brisas del Rio, Limonal, Juan Pablo II, Alborada Este, Alborada Oeste, Bellavista</td>\n",
       "      <td>Coffee Shop</td>\n",
       "      <td>Shopping Mall</td>\n",
       "      <td>Gym</td>\n",
       "      <td>Restaurant</td>\n",
       "      <td>Burger Joint</td>\n",
       "    </tr>\n",
       "    <tr>\n",
       "      <th>2</th>\n",
       "      <td>Ayacucho</td>\n",
       "      <td>Seafood Restaurant</td>\n",
       "      <td>Fast Food Restaurant</td>\n",
       "      <td>Breakfast Spot</td>\n",
       "      <td>Park</td>\n",
       "      <td>Steakhouse</td>\n",
       "    </tr>\n",
       "    <tr>\n",
       "      <th>3</th>\n",
       "      <td>Bastión Popular, Las Orquídeas Este, Las Orquídeas Oeste, Los Vergeles</td>\n",
       "      <td>Seafood Restaurant</td>\n",
       "      <td>South American Restaurant</td>\n",
       "      <td>Food</td>\n",
       "      <td>Convenience Store</td>\n",
       "      <td>Deli / Bodega</td>\n",
       "    </tr>\n",
       "    <tr>\n",
       "      <th>4</th>\n",
       "      <td>Bolívar (Sagrario)</td>\n",
       "      <td>Department Store</td>\n",
       "      <td>Market</td>\n",
       "      <td>South American Restaurant</td>\n",
       "      <td>Shopping Mall</td>\n",
       "      <td>Vegetarian / Vegan Restaurant</td>\n",
       "    </tr>\n",
       "  </tbody>\n",
       "</table>\n",
       "</div>"
      ],
      "text/plain": [
       "                                                                                           Neighborhood  \\\n",
       "0  Abel Gilbert, Batallón del Suburbio, Estero Salado, Febres Cordero.                                    \n",
       "1  Acuarela, Comegua, Brisas del Rio, Limonal, Juan Pablo II, Alborada Este, Alborada Oeste, Bellavista   \n",
       "2  Ayacucho                                                                                               \n",
       "3  Bastión Popular, Las Orquídeas Este, Las Orquídeas Oeste, Los Vergeles                                 \n",
       "4  Bolívar (Sagrario)                                                                                     \n",
       "\n",
       "  1st Most Common Venue      2nd Most Common Venue      3rd Most Common Venue  \\\n",
       "0  Pharmacy              Lounge                     Fast Food Restaurant        \n",
       "1  Coffee Shop           Shopping Mall              Gym                         \n",
       "2  Seafood Restaurant    Fast Food Restaurant       Breakfast Spot              \n",
       "3  Seafood Restaurant    South American Restaurant  Food                        \n",
       "4  Department Store      Market                     South American Restaurant   \n",
       "\n",
       "  4th Most Common Venue          5th Most Common Venue  \n",
       "0  Convenience Store     Deli / Bodega                  \n",
       "1  Restaurant            Burger Joint                   \n",
       "2  Park                  Steakhouse                     \n",
       "3  Convenience Store     Deli / Bodega                  \n",
       "4  Shopping Mall         Vegetarian / Vegan Restaurant  "
      ]
     },
     "execution_count": 34,
     "metadata": {},
     "output_type": "execute_result"
    }
   ],
   "source": [
    "def return_most_common_venues(row, num_top_venues):\n",
    "    row_categories = row.iloc[1:]\n",
    "    row_categories_sorted = row_categories.sort_values(ascending=False)\n",
    "    return row_categories_sorted.index.values[0:num_top_venues]\n",
    "\n",
    "num_top_venues = 5\n",
    "indicators = ['st', 'nd', 'rd']\n",
    "\n",
    "# create columns according to number of top venues\n",
    "columns = ['Neighborhood']\n",
    "for ind in np.arange(num_top_venues):\n",
    "    try:\n",
    "        columns.append('{}{} Most Common Venue'.format(ind+1, indicators[ind]))\n",
    "    except:\n",
    "        columns.append('{}th Most Common Venue'.format(ind+1))\n",
    "\n",
    "# create a new dataframe\n",
    "neighborhoods_venues_sorted = pd.DataFrame(columns=columns)\n",
    "neighborhoods_venues_sorted['Neighborhood'] = guayaquil_grouped['Neighborhood']\n",
    "\n",
    "for ind in np.arange(guayaquil_grouped.shape[0]):\n",
    "    neighborhoods_venues_sorted.iloc[ind, 1:] = return_most_common_venues(guayaquil_grouped.iloc[ind, :], num_top_venues)\n",
    "\n",
    "neighborhoods_venues_sorted.head()"
   ]
  },
  {
   "cell_type": "markdown",
   "metadata": {},
   "source": [
    "#### Now, let's explore all these characteristics by parish, and group these parishes by color, this analysis does not take into account the spatial distance, but the similar commercial characteristics between parishes\n"
   ]
  },
  {
   "cell_type": "code",
   "execution_count": 35,
   "metadata": {},
   "outputs": [],
   "source": [
    "#Cluster Neighborhoods\n",
    "# set number of clusters\n",
    "from sklearn.cluster import KMeans\n",
    "kclusters = 3\n",
    "guayaquil_grouped_clustering = guayaquil_grouped.drop('Neighborhood', 1)\n",
    "# run k-means clustering\n",
    "kmeans = KMeans(n_clusters=kclusters, random_state=0).fit(guayaquil_grouped_clustering)\n",
    "# add clustering labels\n",
    "neighborhoods_venues_sorted.insert(0, 'Cluster', kmeans.labels_)\n",
    "guayaquil_merged = df\n",
    "# merge toronto_grouped with toronto_data to add latitude/longitude for each neighborhood\n",
    "guayaquil_merged = guayaquil_merged.join(neighborhoods_venues_sorted.set_index('Neighborhood'), on='Neighborhood')\n"
   ]
  },
  {
   "cell_type": "code",
   "execution_count": 36,
   "metadata": {},
   "outputs": [],
   "source": [
    "guayaquil_merged['Cluster']=pd.factorize(guayaquil_merged['Cluster'])[0]\n",
    "guayaquil_merged['Longitude']=guayaquil_merged['Longitude'].astype(float)\n",
    "guayaquil_merged['Latitude']=guayaquil_merged['Latitude'].astype(float)"
   ]
  },
  {
   "cell_type": "code",
   "execution_count": 37,
   "metadata": {},
   "outputs": [
    {
     "data": {
      "text/html": [
       "<div style=\"width:100%;\"><div style=\"position:relative;width:100%;height:0;padding-bottom:60%;\"><iframe src=\"data:text/html;charset=utf-8;base64,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\" style=\"position:absolute;width:100%;height:100%;left:0;top:0;border:none !important;\" allowfullscreen webkitallowfullscreen mozallowfullscreen></iframe></div></div>"
      ],
      "text/plain": [
       "<folium.folium.Map at 0x2483bfe25f8>"
      ]
     },
     "metadata": {},
     "output_type": "display_data"
    }
   ],
   "source": [
    "map_clusters = folium.Map(location=[latitude, longitude], zoom_start=11)\n",
    "# set color scheme for the clusters\n",
    "rainbow = [\"#ff0000\",\"#3333ff\",\"#009900\"]\n",
    "# add markers to the map\n",
    "markers_colors = []\n",
    "for lat, lon, poi, cluster in zip(guayaquil_merged['Latitude'], guayaquil_merged['Longitude'], guayaquil_merged['Parish'], guayaquil_merged['Cluster']):\n",
    "    label = folium.Popup(str(poi) + ' Cluster ' + str(cluster), parse_html=True)\n",
    "    folium.CircleMarker(\n",
    "        [lat, lon],\n",
    "        radius=5,\n",
    "        popup=label,\n",
    "        color=rainbow[cluster-1],\n",
    "        fill=True,\n",
    "        fill_color=rainbow[cluster-1],\n",
    "        fill_opacity=0.7).add_to(map_clusters)\n",
    "\n",
    "    \n",
    "from branca.element import Template, MacroElement\n",
    "template = \"\"\"\n",
    "{% macro html(this, kwargs) %}\n",
    "\n",
    "<!doctype html>\n",
    "<html lang=\"en\">\n",
    "<head>\n",
    "  <meta charset=\"utf-8\">\n",
    "  <meta name=\"viewport\" content=\"width=device-width, initial-scale=1\">\n",
    "  <title>jQuery UI Draggable - Default functionality</title>\n",
    "  <link rel=\"stylesheet\" href=\"//code.jquery.com/ui/1.12.1/themes/base/jquery-ui.css\">\n",
    "\n",
    "  <script src=\"https://code.jquery.com/jquery-1.12.4.js\"></script>\n",
    "  <script src=\"https://code.jquery.com/ui/1.12.1/jquery-ui.js\"></script>\n",
    "  \n",
    "  <script>\n",
    "  $( function() {\n",
    "    $( \"#maplegend\" ).draggable({\n",
    "                    start: function (event, ui) {\n",
    "                        $(this).css({\n",
    "                            right: \"auto\",\n",
    "                            top: \"auto\",\n",
    "                            bottom: \"auto\"\n",
    "                        });\n",
    "                    }\n",
    "                });\n",
    "});\n",
    "\n",
    "  </script>\n",
    "</head>\n",
    "<body>\n",
    "\n",
    "<div id='maplegend' class='maplegend' \n",
    "    style='position: absolute; z-index:9999; border:2px solid grey; background-color:rgba(255, 255, 255, 0.8);\n",
    "     border-radius:6px; padding: 10px; font-size:14px; left: 60px; top: 30px;'>\n",
    "     \n",
    "<div class='legend-title'>Legend</div>\n",
    "<div class='legend-scale'>\n",
    "  <ul class='legend-labels'>\n",
    "  \n",
    "      <li><span style='background:#009900;'></span>Cluster 0</li>\n",
    "      <li><span style='background:#ff0000;'></span>Cluster 1</li>\n",
    "      <li><span style='background:#3333ff;'></span>Cluster 2</li>\n",
    "   </ul>\n",
    "</div>\n",
    "</div>\n",
    " \n",
    "</body>\n",
    "</html>\n",
    "\n",
    "<style type='text/css'>\n",
    "  .maplegend .legend-title {\n",
    "    text-align: left;\n",
    "    margin-bottom: 5px;\n",
    "    font-weight: bold;\n",
    "    font-size: 90%;\n",
    "    }\n",
    "  .maplegend .legend-scale ul {\n",
    "    margin: 0;\n",
    "    margin-bottom: 5px;\n",
    "    padding: 0;\n",
    "    float: left;\n",
    "    list-style: none;\n",
    "    }\n",
    "  .maplegend .legend-scale ul li {\n",
    "    font-size: 80%;\n",
    "    list-style: none;\n",
    "    margin-left: 0;\n",
    "    line-height: 18px;\n",
    "    margin-bottom: 2px;\n",
    "    }\n",
    "  .maplegend ul.legend-labels li span {\n",
    "    display: block;\n",
    "    float: left;\n",
    "    height: 16px;\n",
    "    width: 30px;\n",
    "    margin-right: 5px;\n",
    "    margin-left: 0;\n",
    "    border: 1px solid #999;\n",
    "    }\n",
    "  .maplegend .legend-source {\n",
    "    font-size: 80%;\n",
    "    color: #777;\n",
    "    clear: both;\n",
    "    }\n",
    "  .maplegend a {\n",
    "    color: #777;\n",
    "    }\n",
    "</style>\n",
    "{% endmacro %}\"\"\"\n",
    "\n",
    "macro = MacroElement()\n",
    "macro._template = Template(template)\n",
    "map_clusters.get_root().add_child(macro)\n",
    "display(map_clusters)"
   ]
  },
  {
   "cell_type": "code",
   "execution_count": null,
   "metadata": {},
   "outputs": [],
   "source": []
  }
 ],
 "metadata": {
  "kernelspec": {
   "display_name": "Python 3",
   "language": "python",
   "name": "python3"
  },
  "language_info": {
   "codemirror_mode": {
    "name": "ipython",
    "version": 3
   },
   "file_extension": ".py",
   "mimetype": "text/x-python",
   "name": "python",
   "nbconvert_exporter": "python",
   "pygments_lexer": "ipython3",
   "version": "3.7.3"
  }
 },
 "nbformat": 4,
 "nbformat_minor": 2
}
